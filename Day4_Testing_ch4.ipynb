{
  "nbformat": 4,
  "nbformat_minor": 0,
  "metadata": {
    "colab": {
      "provenance": [],
      "authorship_tag": "ABX9TyN9DjJlyatu2V6LdZbVazTi",
      "include_colab_link": true
    },
    "kernelspec": {
      "name": "python3",
      "display_name": "Python 3"
    },
    "language_info": {
      "name": "python"
    }
  },
  "cells": [
    {
      "cell_type": "markdown",
      "metadata": {
        "id": "view-in-github",
        "colab_type": "text"
      },
      "source": [
        "<a href=\"https://colab.research.google.com/github/esay2077/bigdata_analysis/blob/main/Day4_Testing_ch4.ipynb\" target=\"_parent\"><img src=\"https://colab.research.google.com/assets/colab-badge.svg\" alt=\"Open In Colab\"/></a>"
      ]
    },
    {
      "cell_type": "markdown",
      "source": [
        "\n",
        "### 1. 모집단의 분산(표준편차) 알고 있는 경우 : z- test(양측)\n",
        "norm.ppf\n",
        "norm.cdf\n",
        "### 2. 모분산 모표준편차를 모르는 경우: t - test(양측)\n",
        "신뢰구간 함수 사용 (statas.t.interval)\n",
        "stats.ttest_1samp\n",
        "stats.t.interval\n",
        "### 3. 두 독립표본 평균차이, 중앙값 검정\n",
        "t 검정/ Mann-Whitney U\n",
        "stats.ttest_ind / stats.mannwhitneyu\n",
        "### 샤피로 - 월크 테스트\n",
        "stats.shapiro\n",
        "### 독립표본 t-검정 수행\n",
        "stats.ttest_ind\n",
        "### 4. 대응 표본의 차이\n",
        "stats.ttest_rel\n",
        "### 5. 단일표본 모분산 검정(카이제곱 결정)\n",
        "chi2.cdf\n",
        "### 6. 두 모분산 비에 대한 가설 검정 (F-검정: 일원분산분석)\n",
        "stats.f.cdf\n",
        "### 7. 독립성 검정 (카이제곱 검정)\n",
        "범주형 관계분석\n",
        "chi2_contingency"
      ],
      "metadata": {
        "id": "e7XPdGgVEdzZ"
      }
    },
    {
      "cell_type": "code",
      "execution_count": null,
      "metadata": {
        "colab": {
          "base_uri": "https://localhost:8080/"
        },
        "id": "CUIIuHYHJsmM",
        "outputId": "05afa920-3785-4022-9f50-1fdfbe741f5f"
      },
      "outputs": [
        {
          "output_type": "stream",
          "name": "stdout",
          "text": [
            "표본 평균: 27.56\n",
            "검정 통계량 -0.6666666666666643\n",
            "임계값 1.959963984540054\n",
            "p- 값 0.5049850750938474\n",
            "귀무가설 기각불가\n"
          ]
        }
      ],
      "source": [
        "# 통계적 가설 검정\n",
        "# 표본의 평균 검정\n",
        "import numpy as np\n",
        "from scipy.stats import norm\n",
        "\n",
        "\n",
        "# 1. 모집단의 분산(표준편차) 알고 있는 경우 : z- test(양측)\n",
        "# norm.ppf\n",
        "# norm.cdf\n",
        "\n",
        "data = np.array([23,25,28,30,26,27,29,32,28])\n",
        "\n",
        "# 모집단의 평균과 분산 (표준편차)\n",
        "pop_mean = 28\n",
        "pop_var = 4\n",
        "\n",
        "# 유의 수준\n",
        "alpha = 0.05\n",
        "\n",
        "# 단측 또는 양측 검정\n",
        "alternative = 'two.sided'\n",
        "\n",
        "# 표본 평균 계산\n",
        "sample_mean = np.mean(data)\n",
        "\n",
        "#표본크기\n",
        "n = len(data)\n",
        "\n",
        "#검정 통계량 계산 - z 검정 = (표본평균 - 모평균) / 모분산 제곱근 / 표본크기 제곱근\n",
        "test_statistic = (sample_mean - pop_mean) / (np.sqrt(pop_var) / np.sqrt(n))\n",
        "\n",
        "# 임계값 계산  (1- 유의수준/2)\n",
        "critical_value = norm.ppf(1 - alpha /2)\n",
        "\n",
        "# p- 값 계산 2*(1 - norm.cdf(검정통계량 절댓값))\n",
        "p_value = 2*(1 - norm.cdf(abs(test_statistic)))\n",
        "\n",
        "# 결과\n",
        "print('표본 평균:', round(sample_mean,2))\n",
        "print('검정 통계량', test_statistic)\n",
        "print('임계값', critical_value)\n",
        "print('p- 값',p_value)\n",
        "\n",
        "# 해석 : 검정통계량 > 임계값\n",
        "if abs(test_statistic) > critical_value :\n",
        "    print(\"귀무가설 기각\")\n",
        "else:\n",
        "    print('귀무가설 기각불가')"
      ]
    },
    {
      "cell_type": "code",
      "source": [
        "# 2. 모분산 모표준편차를 모르는 경우: t - test(양측)\n",
        "# 신뢰구간 함수 사용 (statas.t.interval)\n",
        "# stats.ttest_1samp\n",
        "# stats.t.interval\n",
        "\n",
        "import numpy as np\n",
        "from scipy import stats\n",
        "\n",
        "data = np.array([23,25,28,30,26,27,29,32,28])\n",
        "alpha = 0.05\n",
        "alternative = \"two-sided\"\n",
        "t_statistic, p_value = stats.ttest_1samp(data, popmean = 0, alternative = alternative)\n",
        "\n",
        "confidence_interval = stats.t.interval(1-alpha, len(data)-1, loc = np.mean(data),scale = stats.sem(data))\n",
        "\n",
        "#\n",
        "print(t_statistic)\n",
        "print(p_value)\n",
        "print(confidence_interval)\n",
        "\n",
        "#\n",
        "if p_value < alpha:\n",
        "    print('귀무가설 기각')\n",
        "else:\n",
        "    print('귀무가설 채택')\n"
      ],
      "metadata": {
        "colab": {
          "base_uri": "https://localhost:8080/"
        },
        "id": "pZzGMa_QJ3W8",
        "outputId": "7d55a2a4-3099-4a5a-f39b-5e28e0153deb"
      },
      "execution_count": null,
      "outputs": [
        {
          "output_type": "stream",
          "name": "stdout",
          "text": [
            "30.64298233547469\n",
            "1.39734915863806e-09\n",
            "(25.481892347497304, 29.62921876361381)\n",
            "0.05\n",
            "귀무가설 기각\n"
          ]
        }
      ]
    },
    {
      "cell_type": "code",
      "source": [
        "import numpy as np\n",
        "import pandas as pd\n",
        "from scipy import stats\n",
        "\n",
        "mtcars = pd.read_csv('https://raw.githubusercontent.com/YoungjinBD/dataset/main/mtcars.csv')\n",
        "\n",
        "# mpg 표본 평균\n",
        "mpg_mean = round(np.mean(mtcars['mpg']),4)\n",
        "\n",
        "# mpg 표본 분산\n",
        "mpg_var = round(np.var(mtcars['mpg']),4)\n",
        "\n",
        "# 단일표본 t - 검정 , 평균이 20인지?\n",
        "t_stat, p_value = stats.ttest_1samp(mtcars['mpg'],20)\n",
        "\n",
        "print('t검정 결과')\n",
        "print('t-통계량:',t_stat)\n",
        "print('p값',p_value)\n",
        "\n",
        "# 95% 신뢰구간\n",
        "conf_interval = stats.t.interval(0.95, len(mtcars['mpg'])-1,\n",
        "                                 loc = np.mean(mtcars['mpg']),\n",
        "                                 scale = stats.sem(mtcars['mpg']))\n",
        "\n",
        "print('mpg 평균의 신뢰구간',round(conf_interval[0],4),'-',round(conf_interval[1],4))\n"
      ],
      "metadata": {
        "colab": {
          "base_uri": "https://localhost:8080/"
        },
        "id": "5A19gG9oJ3ZP",
        "outputId": "736be616-ec87-4ab0-882e-a7df190e3294"
      },
      "execution_count": null,
      "outputs": [
        {
          "output_type": "stream",
          "name": "stdout",
          "text": [
            "t검정 결과\n",
            "t-통계량: 0.08506003568133688\n",
            "p값 0.9327606409093872\n",
            "mpg 평균의 신뢰구간 17.9177 - 22.2636\n"
          ]
        }
      ]
    },
    {
      "cell_type": "code",
      "source": [
        "# 3. 두 독립표본 평균차이, 중앙값 검정\n",
        "# t 검정/ Mann-Whitney U\n",
        "# stats.ttest_ind / stats.mannwhitneyu\n",
        "\n",
        "\n",
        "import scipy.stats as stats\n",
        "import numpy as np\n",
        "\n",
        "sample1 = [23,25,28,30,32]\n",
        "sample2 = [19,21,24,26,29]\n",
        "\n",
        "t_statistic, p_value = stats.ttest_ind(sample1, sample2) # 평균\n",
        "#u_statistic, p_value = stats.mannwhitneyu(sample1, sample2) # 중앙값\n",
        "\n",
        "mean_sample1 = np.mean(sample1)\n",
        "mean_sample2 = np.mean(sample2)\n",
        "\n",
        "alpha =0.05\n",
        "print('t검정통계량',t_statistic)\n",
        "print('sample1',mean_sample1)\n",
        "print('sample2',mean_sample2)\n",
        "print('p-값',p_value)\n",
        "\n",
        "if p_value < alpha:\n",
        "    print('평균 차이남')\n",
        "else:\n",
        "    print('평균 같음')"
      ],
      "metadata": {
        "colab": {
          "base_uri": "https://localhost:8080/"
        },
        "id": "P0adwttZJ3b7",
        "outputId": "35d0ef96-adff-47a1-af21-a02da3c78a67"
      },
      "execution_count": null,
      "outputs": [
        {
          "output_type": "stream",
          "name": "stdout",
          "text": [
            "t검정통계량 1.5778641172210597\n",
            "sample1 27.6\n",
            "sample2 23.8\n",
            "p-값 0.15324889402868613\n",
            "평균 같음\n"
          ]
        }
      ]
    },
    {
      "cell_type": "code",
      "source": [
        "# 샤피로 - 월크 테스트\n",
        "# stats.shapiro\n",
        "\n",
        "from scipy import stats\n",
        "\n",
        "# 정규성 검정을 위한 샘플 데이터\n",
        "data = [2.4, 2.7, 3.1, 3.2, 3.5, 3.7, 3.9, 4.1, 4.2]\n",
        "\n",
        "# Shapiro-Wilk 테스트 수행\n",
        "statistic, p_value = stats.shapiro(data)\n",
        "\n",
        "# 결과 출력\n",
        "alpha = 0.05    # 유의수준 설정\n",
        "\n",
        "print(\"Shapiro-Wilk 테스트 통계량:\", statistic)\n",
        "print(\"p-값:\", p_value)\n",
        "\n",
        "if p_value > alpha:\n",
        "    print(\"귀무가설을 기각하지 못하며, 데이터는 정규분포를 따를 가능성이 높습니다.\")\n",
        "else:\n",
        "    print(\"귀무가설을 기각하며, 데이터는 정규분포를 따르지 않을 가능성이 있습니다.\")"
      ],
      "metadata": {
        "id": "2ZfnQpxyJ3gY",
        "colab": {
          "base_uri": "https://localhost:8080/"
        },
        "outputId": "09dfce3f-91ac-4032-9931-9cee319c4165"
      },
      "execution_count": 13,
      "outputs": [
        {
          "output_type": "stream",
          "name": "stdout",
          "text": [
            "Shapiro-Wilk 테스트 통계량: 0.9553363919258118\n",
            "p-값: 0.7484778761863708\n",
            "귀무가설을 기각하지 못하며, 데이터는 정규분포를 따를 가능성이 높습니다.\n"
          ]
        }
      ]
    },
    {
      "cell_type": "code",
      "source": [
        "# 따라하기\n",
        "from scipy import stats\n",
        "\n",
        "# 데이터 샘플\n",
        "dat_M = [117, 108, 105, 89, 101, 93, 96, 108, 108, 94, 93, 112, 92, 91, 100, 96, 120, 86, 96, 95]\n",
        "dat_F = [121, 101, 102, 114, 103, 105, 101, 131, 96, 109, 109, 113, 115, 94, 108, 96, 110, 112, 120, 100]\n",
        "\n",
        "# 평균 계산\n",
        "mean_M = sum(dat_M) / len(dat_M)\n",
        "mean_F = sum(dat_F) / len(dat_F)\n",
        "\n",
        "print(\"남자 데이터 평균:\", mean_M)\n",
        "print(\"여자 데이터 평균:\", mean_F)\n",
        "\n",
        "# 샤피로-윌크 정규성 테스트 수행\n",
        "statistic_M, p_value_M = stats.shapiro(dat_M)\n",
        "statistic_F, p_value_F = stats.shapiro(dat_F)\n",
        "\n",
        "print(\"\\n남자 데이터 Shapiro-Wilk 테스트 통계량:\", statistic_M)\n",
        "print(\"남자 데이터 p-값:\", p_value_M)\n",
        "\n",
        "if p_value_M > 0.05:\n",
        "    print(\"남자 데이터는 정규분포를 따를 가능성이 높습니다.\")\n",
        "else:\n",
        "    print(\"남자 데이터는 정규분포를 따르지 않을 가능성이 있습니다.\")\n",
        "\n",
        "print(\"\\n여자 데이터 Shapiro-Wilk 테스트 통계량:\", statistic_F)\n",
        "print(\"여자 데이터 p-값:\", p_value_F)\n",
        "\n",
        "if p_value_F > 0.05:\n",
        "    print(\"여자 데이터는 정규분포를 따를 가능성이 높습니다.\")\n",
        "else:\n",
        "    print(\"여자 데이터는 정규분포를 따르지 않을 가능성이 있습니다.\")\n"
      ],
      "metadata": {
        "id": "wgAQOv0aJ3lF",
        "colab": {
          "base_uri": "https://localhost:8080/"
        },
        "outputId": "a8790ad4-b1db-4994-a5da-aad0d93284cf"
      },
      "execution_count": 14,
      "outputs": [
        {
          "output_type": "stream",
          "name": "stdout",
          "text": [
            "남자 데이터 평균: 100.0\n",
            "여자 데이터 평균: 108.0\n",
            "\n",
            "남자 데이터 Shapiro-Wilk 테스트 통계량: 0.932635486125946\n",
            "남자 데이터 p-값: 0.17352384328842163\n",
            "남자 데이터는 정규분포를 따를 가능성이 높습니다.\n",
            "\n",
            "여자 데이터 Shapiro-Wilk 테스트 통계량: 0.9615268111228943\n",
            "여자 데이터 p-값: 0.5747838020324707\n",
            "여자 데이터는 정규분포를 따를 가능성이 높습니다.\n"
          ]
        }
      ]
    },
    {
      "cell_type": "code",
      "source": [
        "from scipy import stats\n",
        "\n",
        "# 독립표본 t-검정 수행\n",
        "# stats.ttest_ind\n",
        "\n",
        "t_statistic, p_value = stats.ttest_ind(dat_M, dat_F)\n",
        "\n",
        "print(\"t-검정통계량:\", t_statistic)\n",
        "print(\"p-값:\", p_value)\n",
        "\n",
        "alpha = 0.05    # 유의수준 설정\n",
        "\n",
        "if p_value < alpha:\n",
        "    print(\"두 표본 간에는 유의한 평균 차이가 있습니다. (귀무가설 기각)\")\n",
        "else:\n",
        "    print(\"두 표본 간에는 유의한 평균 차이가 없습니다. (귀무가설 채택)\")\n"
      ],
      "metadata": {
        "id": "nMPeiHbJJ3nA",
        "colab": {
          "base_uri": "https://localhost:8080/"
        },
        "outputId": "ee440885-f7bb-4cad-aeff-de11a647cf39"
      },
      "execution_count": 15,
      "outputs": [
        {
          "output_type": "stream",
          "name": "stdout",
          "text": [
            "t-검정통계량: -2.670573872669349\n",
            "p-값: 0.011082895240510138\n",
            "두 표본 간에는 유의한 평균 차이가 있습니다. (귀무가설 기각)\n"
          ]
        }
      ]
    },
    {
      "cell_type": "code",
      "source": [
        "# 4. 대응 표본의 차이\n",
        "# stats.ttest_rel\n",
        "\n",
        "from scipy import stats\n",
        "\n",
        "data_before = [72, 75, 68, 71, 73]\n",
        "data_after = [76, 79, 74, 78, 80]\n",
        "\n",
        "t_statistic, p_value = stats.ttest_rel(data_before, data_after)\n",
        "\n",
        "print(\"대응표본 t-검정 결과:\")\n",
        "print(f\"t-통계량 : {t_statistic}\")\n",
        "print(f\"p-값 : {p_value}\")"
      ],
      "metadata": {
        "id": "X84WRHlCJ3rY",
        "colab": {
          "base_uri": "https://localhost:8080/"
        },
        "outputId": "69a72863-2340-4926-d76a-8c58865d353b"
      },
      "execution_count": 16,
      "outputs": [
        {
          "output_type": "stream",
          "name": "stdout",
          "text": [
            "대응표본 t-검정 결과:\n",
            "t-통계량 : -8.25674954467424\n",
            "p-값 : 0.0011738040715128372\n"
          ]
        }
      ]
    },
    {
      "cell_type": "code",
      "source": [
        "from scipy import stats\n",
        "\n",
        "before = [7, 3, 4, 5, 2, 1, 6, 6, 5, 4]\n",
        "after = [8, 4, 5, 6, 2, 3, 6, 8, 6, 5]\n",
        "\n",
        "# 샤피로-윌크 검정 수행\n",
        "_, p_value_before = stats.shapiro(before)\n",
        "_, p_value_after = stats.shapiro(after)\n",
        "\n",
        "# 결과 출력\n",
        "print(\"before 데이터의 정규성 검정:\")\n",
        "\n",
        "if p_value_before > 0.05:\n",
        "    print(\"p-값:\", p_value_before)\n",
        "    print(\"before 데이터는 정규분포를 따릅니다.\")\n",
        "else:\n",
        "    print(\"p-값:\", p_value_before)\n",
        "    print(\"before 데이터는 정규분포를 따르지 않습니다.\")\n",
        "print(\"\\nafter 데이터의 정규성 검정:\")\n",
        "\n",
        "if p_value_after > 0.05:\n",
        "    print(\"p-값:\", p_value_after)\n",
        "    print(\"after 데이터는 정규분포를 따릅니다.\")\n",
        "else:\n",
        "    print(\"p-값:\", p_value_after)\n",
        "    print(\"after 데이터는 정규분포를 따르지 않습니다.\")"
      ],
      "metadata": {
        "id": "lMjFHILbJ3uQ",
        "colab": {
          "base_uri": "https://localhost:8080/"
        },
        "outputId": "013e392e-0fea-45f4-e3c3-d1d61ce539e1"
      },
      "execution_count": 17,
      "outputs": [
        {
          "output_type": "stream",
          "name": "stdout",
          "text": [
            "before 데이터의 정규성 검정:\n",
            "p-값: 0.835266649723053\n",
            "before 데이터는 정규분포를 따릅니다.\n",
            "\n",
            "after 데이터의 정규성 검정:\n",
            "p-값: 0.6177965998649597\n",
            "after 데이터는 정규분포를 따릅니다.\n"
          ]
        }
      ]
    },
    {
      "cell_type": "code",
      "source": [
        "import numpy as np\n",
        "from scipy import stats\n",
        "\n",
        "# 데이터\n",
        "before = np.array([7, 3, 4, 5, 2, 1, 6, 6, 5, 4])\n",
        "after = np.array([8, 4, 5, 6, 2, 3, 6, 8, 6, 5])\n",
        "\n",
        "# 차이 값 계산\n",
        "D = before - after\n",
        "\n",
        "# 대응표본 t-검정 수행\n",
        "t_statistic, p_value = stats.ttest_rel(before, after)\n",
        "\n",
        "# 결과 출력\n",
        "print(\"대응 표본 t-검정 결과:\")\n",
        "print(f\"t-통계량(t-statistic): {t_statistic}\")\n",
        "print(f\"p-값(p-value): {p_value}\")\n",
        "\n",
        "# 가설 검정\n",
        "alpha = 0.05    # 유의수준\n",
        "\n",
        "if p_value < alpha:\n",
        "    print(\"p-값이 유의수준보다 작으므로 귀무가설을 기각합니다.\")\n",
        "    print(\"수면유도제를 복용하기 전과 후의 평균 수면시간 차이는 0보다 작습니다.\")\n",
        "else:\n",
        "    print(\"p-값이 유의수준보다 크므로 귀무가설을 기각하지 않습니다.\")\n",
        "    print(\"수면유도제를 복용하기 전과 후의 평균 수면시간에는 차이가 없습니다.\")"
      ],
      "metadata": {
        "id": "CI4ZM6siJ3wr",
        "colab": {
          "base_uri": "https://localhost:8080/"
        },
        "outputId": "10bccfa4-b702-4dd8-fcb6-52a24b1ca583"
      },
      "execution_count": 18,
      "outputs": [
        {
          "output_type": "stream",
          "name": "stdout",
          "text": [
            "대응 표본 t-검정 결과:\n",
            "t-통계량(t-statistic): -4.743416490252569\n",
            "p-값(p-value): 0.0010538712570165528\n",
            "p-값이 유의수준보다 작으므로 귀무가설을 기각합니다.\n",
            "수면유도제를 복용하기 전과 후의 평균 수면시간 차이는 0보다 작습니다.\n"
          ]
        }
      ]
    },
    {
      "cell_type": "code",
      "source": [
        "# 5. 단일표본 모분산 검정(카이제곱 결정)\n",
        "# chi2.cdf\n",
        "\n",
        "import numpy as np\n",
        "from scipy.stats import chi2\n",
        "\n",
        "# 샘플 데이터 생성\n",
        "data = np.array([14.2, 15.1, 14.8, 15.4, 14.9, 15.2, 14.6, 15.0])\n",
        "\n",
        "# 가설 설정\n",
        "# H0: 모분산은 1.0과 같다.\n",
        "# H1: 모분산은 1.0과 다르다.\n",
        "\n",
        "population_variance = 1.0   # 모분산\n",
        "\n",
        "# 검정통계량 = (n-1) * 표본분산 / 모분산\n",
        "sample_variance = np.var(data, ddof=1) # 표본 분산\n",
        "n = len(data) # 표본 개수\n",
        "chi2_stat = (n-1) * sample_variance / population_variance # 검정 통계량\n",
        "\n",
        "# 카이제곱 분포의 자유도\n",
        "degrees_of_freedom = n-1\n",
        "\n",
        "# p-값 계산\n",
        "p_value = 1 - chi2.cdf(chi2_stat, degrees_of_freedom)\n",
        "\n",
        "# 결과 출력\n",
        "print(\"Chi-Square Statistic:\", chi2_stat)\n",
        "print(\"p-value:\", p_value)\n",
        "\n",
        "# 유의수준 0.05로 가설 검정\n",
        "alpha = 0.05\n",
        "if p_value < alpha:\n",
        "    print(\"귀무가설을 기각합니다. 모분산은 1.0과 다릅니다.\")\n",
        "else:\n",
        "    print(\"귀무가설을 기각하지 못합니다. 모분산은 1.0과 같을 가능성이 있습니다.\")\n"
      ],
      "metadata": {
        "id": "QLW0XWduJ3zO",
        "colab": {
          "base_uri": "https://localhost:8080/"
        },
        "outputId": "9a93a8e0-05ef-4054-fdcc-d459d4ec583c"
      },
      "execution_count": 19,
      "outputs": [
        {
          "output_type": "stream",
          "name": "stdout",
          "text": [
            "Chi-Square Statistic: 0.9800000000000009\n",
            "p-value: 0.9951447440742881\n",
            "귀무가설을 기각하지 못합니다. 모분산은 1.0과 같을 가능성이 있습니다.\n"
          ]
        }
      ]
    },
    {
      "cell_type": "code",
      "source": [
        "# 6. 두 모분산 비에 대한 가설 검정 (F-검정: 일원분산분석)\n",
        "# stats.f.cdf\n",
        "\n",
        "import numpy as np\n",
        "\n",
        "np.random.seed(123) # 결과 재현을 위한 시드 설정\n",
        "\n",
        "sample1 = np.random.normal(loc=5, scale=2, size=50) # 첫 번째 표본 생성\n",
        "sample2 = np.random.normal(loc=5, scale=3, size=50) # 두 번째 표본 생성\n",
        "print(sample1)\n",
        "print(sample2)\n",
        "\n",
        "from scipy import stats\n",
        "\n",
        "# 두 표본의 분산 계산\n",
        "variance_sample1 = np.var(sample1, ddof=1) # ddof=1은 자유도 보정을 위해 사용\n",
        "variance_sample2 = np.var(sample2, ddof=1)\n",
        "\n",
        "# F-검정 실행\n",
        "f_statistic = variance_sample1 / variance_sample2\n",
        "df1 = len(sample1) - 1\n",
        "df2 = len(sample2) - 1\n",
        "p_value = 1 - stats.f.cdf(f_statistic, df1, df2)\n",
        "\n",
        "print(f\"표본 1의 분산: {variance_sample1:.4f}\")\n",
        "print(f\"표본 2의 분산: {variance_sample2:.4f}\")\n",
        "print(f\"F-통계량: {f_statistic:.4f}\")\n",
        "\n",
        "alpha = 0.05 # 유의수준\n",
        "\n",
        "if p_value < alpha:\n",
        "    print(f\"p-value: {p_value:.4f} < {alpha}, 귀무가설을 기각합니다. 두 표본의 모분산은 다릅니다.\")\n",
        "else:\n",
        "    print(f\"p-value: {p_value:.4f} >= {alpha}, 귀무가설을 기각하지 않습니다. 두 표본의 모분산은 같을 수 있습니다.\")\n"
      ],
      "metadata": {
        "id": "Rob4G7EcJ31y",
        "colab": {
          "base_uri": "https://localhost:8080/"
        },
        "outputId": "9ce4b4a0-d045-413b-b463-40df39b027c8"
      },
      "execution_count": 21,
      "outputs": [
        {
          "output_type": "stream",
          "name": "stdout",
          "text": [
            "[ 2.82873879  6.99469089  5.565957    1.98741057  3.8427995   8.30287307\n",
            "  0.14664151  4.14217474  7.53187252  3.2665192   3.6422277   4.81058206\n",
            "  7.98277925  3.72219601  4.11203608  4.13129745  9.41186017  9.37357218\n",
            "  7.0081078   5.7723728   6.47473715  7.98146406  3.12833226  7.35165809\n",
            "  2.49223866  3.724497    6.81421039  2.1426386   4.71986256  3.27649021\n",
            "  4.48876126 -0.59717821  1.45693379  3.60024553  6.85492486  4.65272863\n",
            "  5.00569183  6.37644542  3.24092731  5.56725465  3.38926696  1.54466101\n",
            "  4.21820041  6.14761172  5.6771781   4.97633901  9.78473053  5.82582432\n",
            "  6.95747201  9.47628668]\n",
            "[ 1.11774403  1.88363537 10.23113668  2.60581179  5.08904969  8.20794791\n",
            "  7.67211917 10.26465855  9.48693241  8.20817801  2.68187386  7.384588\n",
            "  5.94281598  1.02120362  9.25189714  7.4217096   5.13647024  4.30072382\n",
            "  1.40509657  5.59857222  6.40531736  2.50653505  8.48661215  1.70839086\n",
            " -1.36930105  8.11918127  3.78990189  4.62191124  2.48744983  0.18211172\n",
            "  8.76571212  2.93339305  9.98285746  7.42192456  4.05572556  1.7422928\n",
            "  2.80261404  1.36243061 11.26134008  5.49332369  8.45061663  1.19794385\n",
            "  5.54310539  8.53358582  3.99496771  8.09334338  1.74629626  0.90958537\n",
            "  6.13820184  3.8624707 ]\n",
            "표본 1의 분산: 5.7763\n",
            "표본 2의 분산: 10.3800\n",
            "F-통계량: 0.5565\n",
            "p-value: 0.9787 >= 0.05, 귀무가설을 기각하지 않습니다. 두 표본의 모분산은 같을 수 있습니다.\n"
          ]
        }
      ]
    },
    {
      "cell_type": "code",
      "source": [
        "#7. 독립성 검정 (카이제곱 검정)\n",
        "# 범주형 관계분석\n",
        "# chi2_contingency\n",
        "\n",
        "import numpy as np\n",
        "from scipy.stats import chi2_contingency\n",
        "\n",
        "# 주어진 데이터를 매트릭스로 입력\n",
        "data_matrix = np.array([[50, 75, 125, 175], [90, 30, 45, 10]])\n",
        "\n",
        "# 카이제곱 독립성 검정 수행\n",
        "chi2, p, df, expected = chi2_contingency(data_matrix)\n",
        "\n",
        "# 결과 출력\n",
        "print(\"Chi-square statistic:\", chi2)\n",
        "print(\"p-value:\", p)\n",
        "print(\"Degrees of freedom:\", df)\n",
        "print(\"Expected frequencies table:\")\n",
        "print(expected)"
      ],
      "metadata": {
        "id": "v9aKYXA5J34H"
      },
      "execution_count": null,
      "outputs": []
    },
    {
      "cell_type": "code",
      "source": [
        "import pandas as pd\n",
        "import numpy as np\n",
        "from scipy.stats import chi2_contingency\n",
        "\n",
        "# 타이타닉 데이터셋\n",
        "titanic_data = pd.read_csv('https://raw.githubusercontent.com/YoungjinBD/dataset/main/titanic.csv')\n",
        "\n",
        "# 교차표 생성: 성별(Sex)과 생존 여부(Survived)를 기반\n",
        "cross_table = pd.crosstab(titanic_data['Sex'], titanic_data['Survived'])\n",
        "\n",
        "# 카이제곱 독립성 검정 수행\n",
        "chi2, p, df, expected = chi2_contingency(cross_table)\n",
        "\n",
        "# 결과 출력\n",
        "print(\"카이제곱 통계량:\", chi2)\n",
        "print(\"p-value:\", p)\n",
        "print(\"자유도(df):\", df)\n",
        "print(\"기대값(Expected Frequencies):\")\n",
        "print(expected)\n",
        "\n",
        "# 나이를 그룹으로 나누는 함수 정의\n",
        "def categorize_age(age):\n",
        "    if age < 20:\n",
        "        return '10대'\n",
        "    elif age < 30:\n",
        "        return '20대'\n",
        "    elif age < 40:\n",
        "        return '30대'\n",
        "    elif age < 50:\n",
        "        return '40대'\n",
        "    elif age < 60:\n",
        "        return '50대'\n",
        "    else:\n",
        "        return '60대 이상'\n",
        "\n",
        "# 나이가 NaN인 경우 해당 열의 평균값으로 대체\n",
        "average_age = titanic_data['Age'].mean()\n",
        "titanic_data['Age'] = titanic_data['Age'].apply(lambda x: average_age if np.isnan(x) else x)\n",
        "\n",
        "# apply() 함수로 새로운 열 생성\n",
        "titanic_data['AgeGroup'] = titanic_data['Age'].apply(categorize_age)\n",
        "\n",
        "# 결과 출력\n",
        "print(titanic_data[['Age', 'AgeGroup']])"
      ],
      "metadata": {
        "id": "P_C1T_hvJ36W",
        "colab": {
          "base_uri": "https://localhost:8080/"
        },
        "outputId": "bb845658-b313-49c5-dd0f-e16915dac90a"
      },
      "execution_count": 22,
      "outputs": [
        {
          "output_type": "stream",
          "name": "stdout",
          "text": [
            "카이제곱 통계량: 260.71702016732104\n",
            "p-value: 1.1973570627755645e-58\n",
            "자유도(df): 1\n",
            "기대값(Expected Frequencies):\n",
            "[[193.47474747 120.52525253]\n",
            " [355.52525253 221.47474747]]\n",
            "           Age AgeGroup\n",
            "0    22.000000      20대\n",
            "1    38.000000      30대\n",
            "2    26.000000      20대\n",
            "3    35.000000      30대\n",
            "4    35.000000      30대\n",
            "..         ...      ...\n",
            "886  27.000000      20대\n",
            "887  19.000000      10대\n",
            "888  29.699118      20대\n",
            "889  26.000000      20대\n",
            "890  32.000000      30대\n",
            "\n",
            "[891 rows x 2 columns]\n"
          ]
        }
      ]
    },
    {
      "cell_type": "code",
      "source": [],
      "metadata": {
        "id": "fYloLW9OJ4By"
      },
      "execution_count": null,
      "outputs": []
    }
  ]
}