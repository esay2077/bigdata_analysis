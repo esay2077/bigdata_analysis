{
  "nbformat": 4,
  "nbformat_minor": 0,
  "metadata": {
    "colab": {
      "provenance": [],
      "authorship_tag": "ABX9TyNt+354l8wv//U9KELio0cO",
      "include_colab_link": true
    },
    "kernelspec": {
      "name": "python3",
      "display_name": "Python 3"
    },
    "language_info": {
      "name": "python"
    }
  },
  "cells": [
    {
      "cell_type": "markdown",
      "metadata": {
        "id": "view-in-github",
        "colab_type": "text"
      },
      "source": [
        "<a href=\"https://colab.research.google.com/github/esay2077/bigdata_analysis/blob/main/%ED%8C%8C%EC%9D%B4%EC%8D%AC%EC%9D%84_%ED%99%9C%EC%9A%A9%ED%95%9C_%EB%A8%B8%EC%8B%A0%EB%9F%AC%EB%8B%9D_%EC%BF%A1%EB%B6%81_2%EC%9E%A5.ipynb\" target=\"_parent\"><img src=\"https://colab.research.google.com/assets/colab-badge.svg\" alt=\"Open In Colab\"/></a>"
      ]
    },
    {
      "cell_type": "code",
      "source": [
        "# 데이터 적재\n",
        "# 데이터 불러오기 (로그 데이터셋 데이터베이스 기타)\n",
        "\n",
        "# 샘플 데이터셋 적재\n",
        "\n",
        "from sklearn import datasets\n",
        "\n",
        "digits = datasets.load_digits() # 숫자 데이터셋 적재\n",
        "\n",
        "features = digits.data # 특성 행렬\n",
        "\n",
        "target = digits.target # 타깃 벡터\n",
        "\n",
        "features[0]"
      ],
      "metadata": {
        "colab": {
          "base_uri": "https://localhost:8080/"
        },
        "id": "PDxZBELRj-DU",
        "outputId": "eaf5847d-a17a-48d0-b180-dee0e8a0fd0a"
      },
      "execution_count": null,
      "outputs": [
        {
          "output_type": "execute_result",
          "data": {
            "text/plain": [
              "array([ 0.,  0.,  5., 13.,  9.,  1.,  0.,  0.,  0.,  0., 13., 15., 10.,\n",
              "       15.,  5.,  0.,  0.,  3., 15.,  2.,  0., 11.,  8.,  0.,  0.,  4.,\n",
              "       12.,  0.,  0.,  8.,  8.,  0.,  0.,  5.,  8.,  0.,  0.,  9.,  8.,\n",
              "        0.,  0.,  4., 11.,  0.,  1., 12.,  7.,  0.,  0.,  2., 14.,  5.,\n",
              "       10., 12.,  0.,  0.,  0.,  0.,  6., 13., 10.,  0.,  0.,  0.])"
            ]
          },
          "metadata": {},
          "execution_count": 1
        }
      ]
    },
    {
      "cell_type": "code",
      "source": [
        "# load_boston 보스턴 주택 가격\n",
        "# load_iris 붓꽃 샘플\n",
        "# load_digits 손으로 쓴 숫자"
      ],
      "metadata": {
        "id": "A8EFXSEbj-GN"
      },
      "execution_count": null,
      "outputs": []
    },
    {
      "cell_type": "code",
      "source": [
        "digits.keys()"
      ],
      "metadata": {
        "colab": {
          "base_uri": "https://localhost:8080/"
        },
        "id": "u8GHmH72j-Ig",
        "outputId": "066e5240-769c-4735-e43a-90dc0b2b52b8"
      },
      "execution_count": null,
      "outputs": [
        {
          "output_type": "execute_result",
          "data": {
            "text/plain": [
              "dict_keys(['data', 'target', 'frame', 'feature_names', 'target_names', 'images', 'DESCR'])"
            ]
          },
          "metadata": {},
          "execution_count": 3
        }
      ]
    },
    {
      "cell_type": "code",
      "source": [
        "digits['DESCR'][:70]"
      ],
      "metadata": {
        "colab": {
          "base_uri": "https://localhost:8080/",
          "height": 36
        },
        "id": "oZvSNOYLj-LL",
        "outputId": "4a0913ba-70b5-45f5-e4ea-ccd5757491c1"
      },
      "execution_count": null,
      "outputs": [
        {
          "output_type": "execute_result",
          "data": {
            "text/plain": [
              "'.. _digits_dataset:\\n\\nOptical recognition of handwritten digits dataset'"
            ],
            "application/vnd.google.colaboratory.intrinsic+json": {
              "type": "string"
            }
          },
          "metadata": {},
          "execution_count": 4
        }
      ]
    },
    {
      "cell_type": "code",
      "source": [
        "import numpy as np\n",
        "\n",
        "X,y = datasets.load_digits(n_class=5,return_X_y =True)\n",
        "np.unique(y)"
      ],
      "metadata": {
        "colab": {
          "base_uri": "https://localhost:8080/"
        },
        "id": "P3oC9Q5Aj-Nd",
        "outputId": "2db77135-adb9-4b08-d4ec-62ec3d04690a"
      },
      "execution_count": null,
      "outputs": [
        {
          "output_type": "execute_result",
          "data": {
            "text/plain": [
              "array([0, 1, 2, 3, 4])"
            ]
          },
          "metadata": {},
          "execution_count": 6
        }
      ]
    },
    {
      "cell_type": "code",
      "source": [
        "# 모의 데이터셋 제작\n",
        "# make_regression 선형 회귀\n",
        "from sklearn.datasets import make_regression\n",
        "# 특성행렬, 타깃벡터, 정답계수\n",
        "features,target, coefficients = make_regression(n_samples = 100,\n",
        "                                                n_features = 3,\n",
        "                                                n_informative =3,\n",
        "                                                noise =0.0,\n",
        "                                                coef =True,\n",
        "                                                random_state = 1)\n",
        "# 특성행렬, 타깃벡터\n",
        "print('특성 행렬\\n',features[:3])\n",
        "print('타깃 벡터\\n',target[:3])\n"
      ],
      "metadata": {
        "colab": {
          "base_uri": "https://localhost:8080/"
        },
        "id": "wFbAyzejj-QR",
        "outputId": "e2788a7b-382f-45f2-a9cc-2824ba7ca9ca"
      },
      "execution_count": null,
      "outputs": [
        {
          "output_type": "stream",
          "name": "stdout",
          "text": [
            "특성 행렬\n",
            " [[ 1.29322588 -0.61736206 -0.11044703]\n",
            " [-2.793085    0.36633201  1.93752881]\n",
            " [ 0.80186103 -0.18656977  0.0465673 ]]\n",
            "타깃 벡터\n",
            " [-10.37865986  25.5124503   19.67705609]\n"
          ]
        }
      ]
    },
    {
      "cell_type": "code",
      "source": [
        "from sklearn.datasets import make_classification\n",
        "# make_classification 분류\n",
        "# 특성행렬 타깃벡터\n",
        "features, target = make_classification(n_samples = 100,\n",
        "                                      n_features = 3,\n",
        "                                      n_informative = 3,\n",
        "                                      n_redundant = 0,\n",
        "                                      n_classes = 2,\n",
        "                                      weights = [.25,.75],\n",
        "                                      random_state = 1)\n",
        "print('특성 행렬\\n',features[:3])\n",
        "print('타깃 벡터\\n',target[:3])"
      ],
      "metadata": {
        "id": "CjOkwiMGj-S0",
        "colab": {
          "base_uri": "https://localhost:8080/"
        },
        "outputId": "e53372c7-fb65-47f0-de33-425082b05401"
      },
      "execution_count": 10,
      "outputs": [
        {
          "output_type": "stream",
          "name": "stdout",
          "text": [
            "특성 행렬\n",
            " [[ 1.06354768 -1.42632219  1.02163151]\n",
            " [ 0.23156977  1.49535261  0.33251578]\n",
            " [ 0.15972951  0.83533515 -0.40869554]]\n",
            "타깃 벡터\n",
            " [1 0 0]\n"
          ]
        }
      ]
    },
    {
      "cell_type": "code",
      "source": [
        "from sklearn.datasets import make_blobs\n",
        "# make_blobs 군집\n",
        "\n",
        "features, target = make_blobs(n_samples = 100,\n",
        "                              n_features = 2,\n",
        "                              centers = 3,\n",
        "                              cluster_std = 0.5,\n",
        "                              shuffle = True,\n",
        "                              random_state = 1)\n",
        "\n",
        "print('특성 행렬\\n',features[:3])\n",
        "print('타깃 벡터\\n',target[:3])"
      ],
      "metadata": {
        "id": "UhRr4xTLj-U-",
        "colab": {
          "base_uri": "https://localhost:8080/"
        },
        "outputId": "052eaaad-77aa-4c8e-b7d3-02761f056960"
      },
      "execution_count": 12,
      "outputs": [
        {
          "output_type": "stream",
          "name": "stdout",
          "text": [
            "특성 행렬\n",
            " [[ -1.22685609   3.25572052]\n",
            " [ -9.57463218  -4.38310652]\n",
            " [-10.71976941  -4.20558148]]\n",
            "타깃 벡터\n",
            " [0 1 1]\n"
          ]
        }
      ]
    },
    {
      "cell_type": "code",
      "source": [
        "import matplotlib.pyplot as plt\n",
        "\n",
        "plt.scatter(features[:,0],features[:,1],c=target)\n",
        "plt.show()"
      ],
      "metadata": {
        "id": "vnZhXtgej-Xh",
        "colab": {
          "base_uri": "https://localhost:8080/",
          "height": 431
        },
        "outputId": "c816024b-8f84-4053-8185-c36301ac7997"
      },
      "execution_count": 14,
      "outputs": [
        {
          "output_type": "display_data",
          "data": {
            "text/plain": [
              "<Figure size 640x480 with 1 Axes>"
            ],
            "image/png": "[encoded data removed]"
          },
          "metadata": {}
        }
      ]
    },
    {
      "cell_type": "code",
      "source": [
        "# csv 적재\n",
        "import pandas as pd\n",
        "import requests\n",
        "import re\n",
        "import ssl\n",
        "\n",
        "\n",
        "if hasattr (ssl, '_create_unverified_context') :\n",
        "    ssl._create_default_https_context = ssl._create_unverified_context\n",
        "\n",
        "url = 'https://tinyurl.com/simulated-data'\n",
        "r = requests.head(url,  headers={'User-agent': 'Mozilla/5.0'})\n",
        "\n",
        "\n",
        "dataframe = pd.read_csv(url)\n",
        "\n",
        "dataframe.head(2)\n",
        "\n",
        "# 통신오류"
      ],
      "metadata": {
        "id": "mx6Iecu6j-Zs"
      },
      "execution_count": 23,
      "outputs": []
    },
    {
      "cell_type": "code",
      "source": [
        "# 엑셀 파일 적재\n",
        "\n",
        "import pandas as pd\n",
        "\n",
        "url = \"https://tinyurl.com/simulated-excel\"\n",
        "\n",
        "dataframe = pd.read_csv(url, header = 1)\n",
        "\n",
        "dataframe.head(2)\n",
        "# 통신오류"
      ],
      "metadata": {
        "id": "NmcXpURGj-cL"
      },
      "execution_count": 27,
      "outputs": []
    },
    {
      "cell_type": "code",
      "source": [
        "# JSON 파일 적재\n",
        "\n",
        "import pandas as pd\n",
        "\n",
        "url = \"https://tinyurl.com/simulated-json\"\n",
        "\n",
        "dataframe = pd.read_json(url, orient ='columns')\n",
        "dataframe.head(2)\n",
        "# 통신오류"
      ],
      "metadata": {
        "id": "eKz4wjrMj-eh"
      },
      "execution_count": 29,
      "outputs": []
    },
    {
      "cell_type": "code",
      "source": [
        "pip install sqlalchemy"
      ],
      "metadata": {
        "colab": {
          "base_uri": "https://localhost:8080/"
        },
        "id": "gaX-MWDDXP6B",
        "outputId": "811c34b4-a1ab-4b34-9a97-b182a3f8f5a6"
      },
      "execution_count": 39,
      "outputs": [
        {
          "output_type": "stream",
          "name": "stdout",
          "text": [
            "Requirement already satisfied: sqlalchemy in /usr/local/lib/python3.10/dist-packages (2.0.30)\n",
            "Requirement already satisfied: typing-extensions>=4.6.0 in /usr/local/lib/python3.10/dist-packages (from sqlalchemy) (4.12.1)\n",
            "Requirement already satisfied: greenlet!=0.4.17 in /usr/local/lib/python3.10/dist-packages (from sqlalchemy) (3.0.3)\n"
          ]
        }
      ]
    },
    {
      "cell_type": "code",
      "source": [
        "# SQL 데이터베이스 적재\n",
        "import pandas as pd\n",
        "from sqlalchemy import create_engine\n",
        "# 데베 연결\n",
        "database_connection = create_engine('sqlite:///sample.db')\n",
        "# 데이터 적재\n",
        "\n",
        "df = pd.read_sql_query('SELECT * FROM data', database_connection)\n",
        "\n",
        "\n",
        "df.head(2)\n",
        "#tㅣ발 그냥 오류남"
      ],
      "metadata": {
        "id": "Kv20a9x_j-j5"
      },
      "execution_count": 37,
      "outputs": []
    }
  ]
}