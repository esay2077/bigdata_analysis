{
  "nbformat": 4,
  "nbformat_minor": 0,
  "metadata": {
    "colab": {
      "provenance": [],
      "authorship_tag": "ABX9TyPysmEojMJLFhyqPrZOFlUZ",
      "include_colab_link": true
    },
    "kernelspec": {
      "name": "python3",
      "display_name": "Python 3"
    },
    "language_info": {
      "name": "python"
    }
  },
  "cells": [
    {
      "cell_type": "markdown",
      "metadata": {
        "id": "view-in-github",
        "colab_type": "text"
      },
      "source": [
        "<a href=\"https://colab.research.google.com/github/esay2077/bigdata_analysis/blob/main/%ED%8C%8C%EC%9D%B4%EC%8D%AC%EC%9D%84_%ED%99%9C%EC%9A%A9%ED%95%9C_%EB%A8%B8%EC%8B%A0%EB%9F%AC%EB%8B%9D_%EC%BF%A1%EB%B6%81_1%EC%9E%A5.ipynb\" target=\"_parent\"><img src=\"https://colab.research.google.com/assets/colab-badge.svg\" alt=\"Open In Colab\"/></a>"
      ]
    },
    {
      "cell_type": "code",
      "execution_count": 2,
      "metadata": {
        "colab": {
          "base_uri": "https://localhost:8080/"
        },
        "id": "LMezjo6ntvqz",
        "outputId": "e1ef5c01-7751-4f69-9195-032b06431053"
      },
      "outputs": [
        {
          "output_type": "stream",
          "name": "stdout",
          "text": [
            "<class 'numpy.ndarray'>\n"
          ]
        }
      ],
      "source": [
        "# 벡터 만들기\n",
        "import numpy as np\n",
        "\n",
        "vector_row = np.array([1,2,3])\n",
        "\n",
        "vector_coloum = np.array([[1],[2],[3]])\n",
        "\n",
        "print(type(vector_row))"
      ]
    },
    {
      "cell_type": "code",
      "source": [
        "bad_way = np.ndarray((3,)) # 권장 안함"
      ],
      "metadata": {
        "id": "iNN_O_TAwaZO"
      },
      "execution_count": 3,
      "outputs": []
    },
    {
      "cell_type": "code",
      "source": [
        "new_row = np.asarray([1,2,3])\n",
        "\n",
        "new_row = np.asarray(vector_row)\n",
        "\n",
        "new_row is vector_row\n"
      ],
      "metadata": {
        "colab": {
          "base_uri": "https://localhost:8080/"
        },
        "id": "cBbg73t-twMe",
        "outputId": "17a162f6-91bd-46f0-aa6b-71d839616970"
      },
      "execution_count": 4,
      "outputs": [
        {
          "output_type": "execute_result",
          "data": {
            "text/plain": [
              "True"
            ]
          },
          "metadata": {},
          "execution_count": 4
        }
      ]
    },
    {
      "cell_type": "code",
      "source": [
        "new_row = np.array(vector_row)\n",
        "new_row is vector_row\n"
      ],
      "metadata": {
        "colab": {
          "base_uri": "https://localhost:8080/"
        },
        "id": "kn1qv7G8xESH",
        "outputId": "031406c9-ffdd-469c-cb1e-a05513bdc5cc"
      },
      "execution_count": 5,
      "outputs": [
        {
          "output_type": "execute_result",
          "data": {
            "text/plain": [
              "False"
            ]
          },
          "metadata": {},
          "execution_count": 5
        }
      ]
    },
    {
      "cell_type": "code",
      "source": [
        "new_row = vector_row.copy()\n",
        "new_row is vector_row"
      ],
      "metadata": {
        "colab": {
          "base_uri": "https://localhost:8080/"
        },
        "id": "NllMH1PgxEUx",
        "outputId": "81f5132c-1c34-4bcb-c383-a8a94f6b4094"
      },
      "execution_count": 6,
      "outputs": [
        {
          "output_type": "execute_result",
          "data": {
            "text/plain": [
              "False"
            ]
          },
          "metadata": {},
          "execution_count": 6
        }
      ]
    },
    {
      "cell_type": "code",
      "source": [
        "# 행렬 만들기\n",
        "import numpy as np\n",
        "matrix = np.array([[1,2],[1,2],[1,2]])\n",
        "\n",
        "matrix_object = np.mat([[1,2],[1,2],[1,2]])\n",
        "matrix\n",
        "matrix_object"
      ],
      "metadata": {
        "colab": {
          "base_uri": "https://localhost:8080/"
        },
        "id": "NkEQTa8lxEXk",
        "outputId": "fafe1626-1093-475f-c723-af6752d14aac"
      },
      "execution_count": 7,
      "outputs": [
        {
          "output_type": "execute_result",
          "data": {
            "text/plain": [
              "matrix([[1, 2],\n",
              "        [1, 2],\n",
              "        [1, 2]])"
            ]
          },
          "metadata": {},
          "execution_count": 7
        }
      ]
    },
    {
      "cell_type": "code",
      "source": [
        "zero_matrix = np.zeros((3,2))\n",
        "zero_matrix"
      ],
      "metadata": {
        "colab": {
          "base_uri": "https://localhost:8080/"
        },
        "id": "Q4FkAAYKxEZ3",
        "outputId": "1cb98361-18ac-418d-f016-dfe4a8e85539"
      },
      "execution_count": 8,
      "outputs": [
        {
          "output_type": "execute_result",
          "data": {
            "text/plain": [
              "array([[0., 0.],\n",
              "       [0., 0.],\n",
              "       [0., 0.]])"
            ]
          },
          "metadata": {},
          "execution_count": 8
        }
      ]
    },
    {
      "cell_type": "code",
      "source": [
        "one_matrix = np.ones((3,2))\n",
        "one_matrix"
      ],
      "metadata": {
        "colab": {
          "base_uri": "https://localhost:8080/"
        },
        "id": "U7_NefDLxEcr",
        "outputId": "1cc58d1a-72f7-49aa-bb3f-effe49d39e10"
      },
      "execution_count": 9,
      "outputs": [
        {
          "output_type": "execute_result",
          "data": {
            "text/plain": [
              "array([[1., 1.],\n",
              "       [1., 1.],\n",
              "       [1., 1.]])"
            ]
          },
          "metadata": {},
          "execution_count": 9
        }
      ]
    },
    {
      "cell_type": "code",
      "source": [
        "seven_matrix = np.zeros((3,2)) + 7\n",
        "seven_matrix"
      ],
      "metadata": {
        "colab": {
          "base_uri": "https://localhost:8080/"
        },
        "id": "Ucbc1Ja-xEfm",
        "outputId": "f12202a7-e784-4b60-e498-226b725137a9"
      },
      "execution_count": 10,
      "outputs": [
        {
          "output_type": "execute_result",
          "data": {
            "text/plain": [
              "array([[7., 7.],\n",
              "       [7., 7.],\n",
              "       [7., 7.]])"
            ]
          },
          "metadata": {},
          "execution_count": 10
        }
      ]
    },
    {
      "cell_type": "code",
      "source": [
        "seven_matrix = np.full((3,2),7) # 효율\n",
        "seven_matrix"
      ],
      "metadata": {
        "colab": {
          "base_uri": "https://localhost:8080/"
        },
        "id": "mC5fTCOMxEiR",
        "outputId": "481460b3-ea24-4b01-b63e-7838067d2dca"
      },
      "execution_count": 11,
      "outputs": [
        {
          "output_type": "execute_result",
          "data": {
            "text/plain": [
              "array([[7, 7],\n",
              "       [7, 7],\n",
              "       [7, 7]])"
            ]
          },
          "metadata": {},
          "execution_count": 11
        }
      ]
    },
    {
      "cell_type": "code",
      "source": [
        "# 희소 행렬 만들기\n",
        "\n",
        "import numpy as np\n",
        "from scipy import sparse\n",
        "\n",
        "matrix = np.array([[0,0],\n",
        "                   [0,1],\n",
        "                    [3,0]])\n",
        "matrix_sparse = sparse.csr_matrix(matrix) # sparse 희소\n",
        "# sparse matrix 또는 sparse array는 행렬의 대부분의 요소가 0인 행렬입니다.\n",
        "# 반대로 대부분의 요소가 0이 아니면 행렬은 dense하다고 표현합니다.\n",
        "# 값이 0 인 갯수를 전체 값의 총 수로 나눈 값 (예 : m × n 행렬의 경우 m × n)을 행렬의 희소성 또는 sparsity 라고합니다.\n",
        "print(matrix_sparse)\n"
      ],
      "metadata": {
        "colab": {
          "base_uri": "https://localhost:8080/"
        },
        "id": "ABn4ao-ZxEq8",
        "outputId": "9a3848a5-33d1-4067-a22d-73dd8d765eea"
      },
      "execution_count": 12,
      "outputs": [
        {
          "output_type": "stream",
          "name": "stdout",
          "text": [
            "  (1, 1)\t1\n",
            "  (2, 0)\t3\n"
          ]
        }
      ]
    },
    {
      "cell_type": "code",
      "source": [
        "matrix_large = np.array([[0,0,0,0,0,0,0,0,0],\n",
        "                         [0,1,0,0,0,0,0,0,0],\n",
        "                         [3,0,0,0,0,0,0,0,0]])\n",
        "matrix_large_sparse = sparse.csr_matrix(matrix_large)\n",
        "print(matrix_sparse)\n",
        "print(matrix_large_sparse)"
      ],
      "metadata": {
        "colab": {
          "base_uri": "https://localhost:8080/"
        },
        "id": "b-itksJxxE8k",
        "outputId": "96b12acd-2a4d-4907-bd4c-0b11671110fa"
      },
      "execution_count": 13,
      "outputs": [
        {
          "output_type": "stream",
          "name": "stdout",
          "text": [
            "  (1, 1)\t1\n",
            "  (2, 0)\t3\n",
            "  (1, 1)\t1\n",
            "  (2, 0)\t3\n"
          ]
        }
      ]
    },
    {
      "cell_type": "code",
      "source": [
        "matrix_sparse_2 = sparse.csr_matrix(([1,3],([1,2],[1,0])), shape =(3,10))\n",
        "\n",
        "print(matrix_sparse_2)"
      ],
      "metadata": {
        "colab": {
          "base_uri": "https://localhost:8080/"
        },
        "id": "_X1hJ1OlxFD7",
        "outputId": "54740df6-91bb-434f-b033-daa763b4b021"
      },
      "execution_count": 14,
      "outputs": [
        {
          "output_type": "stream",
          "name": "stdout",
          "text": [
            "  (1, 1)\t1\n",
            "  (2, 0)\t3\n"
          ]
        }
      ]
    },
    {
      "cell_type": "code",
      "source": [
        "print(matrix_sparse_2.toarray()) #희소행렬 -> 밀집행렬"
      ],
      "metadata": {
        "colab": {
          "base_uri": "https://localhost:8080/"
        },
        "id": "7Wx8egSaxFI4",
        "outputId": "ad844df3-2404-4304-b42c-521a575ba424"
      },
      "execution_count": 15,
      "outputs": [
        {
          "output_type": "stream",
          "name": "stdout",
          "text": [
            "[[0 0 0 0 0 0 0 0 0 0]\n",
            " [0 1 0 0 0 0 0 0 0 0]\n",
            " [3 0 0 0 0 0 0 0 0 0]]\n"
          ]
        }
      ]
    },
    {
      "cell_type": "code",
      "source": [
        "matrix_sparse_2.todense() #np.matrix 객체 반환"
      ],
      "metadata": {
        "colab": {
          "base_uri": "https://localhost:8080/"
        },
        "id": "sb-sb4dCxFPq",
        "outputId": "5861a3ec-40f1-48c1-a00d-591d9f378d4a"
      },
      "execution_count": 16,
      "outputs": [
        {
          "output_type": "execute_result",
          "data": {
            "text/plain": [
              "matrix([[0, 0, 0, 0, 0, 0, 0, 0, 0, 0],\n",
              "        [0, 1, 0, 0, 0, 0, 0, 0, 0, 0],\n",
              "        [3, 0, 0, 0, 0, 0, 0, 0, 0, 0]])"
            ]
          },
          "metadata": {},
          "execution_count": 16
        }
      ]
    },
    {
      "cell_type": "code",
      "source": [
        "# 원소 선택하기\n",
        "import numpy as np\n",
        "\n",
        "vector = np.array([1,2,3,4,5,6])\n",
        "\n",
        "matrix = np.array([[1,2,3],\n",
        "                   [4,5,6],\n",
        "                    [7,8,9]])\n",
        "vector[2]"
      ],
      "metadata": {
        "colab": {
          "base_uri": "https://localhost:8080/"
        },
        "id": "X0HqaL5BxFcZ",
        "outputId": "53a36c09-3281-4ce1-c5cb-cdd5689eab0b"
      },
      "execution_count": 17,
      "outputs": [
        {
          "output_type": "execute_result",
          "data": {
            "text/plain": [
              "3"
            ]
          },
          "metadata": {},
          "execution_count": 17
        }
      ]
    },
    {
      "cell_type": "code",
      "source": [
        "matrix[1,1]"
      ],
      "metadata": {
        "colab": {
          "base_uri": "https://localhost:8080/"
        },
        "id": "eBuphmkKPdXr",
        "outputId": "450ae821-7000-4bfc-fca9-5e2580ac4f5e"
      },
      "execution_count": 18,
      "outputs": [
        {
          "output_type": "execute_result",
          "data": {
            "text/plain": [
              "5"
            ]
          },
          "metadata": {},
          "execution_count": 18
        }
      ]
    },
    {
      "cell_type": "code",
      "source": [
        "vector[:] #전체"
      ],
      "metadata": {
        "colab": {
          "base_uri": "https://localhost:8080/"
        },
        "id": "8QFn_sPaPdak",
        "outputId": "758ab01d-e9d5-4c42-b3d3-3e14cf130bde"
      },
      "execution_count": 19,
      "outputs": [
        {
          "output_type": "execute_result",
          "data": {
            "text/plain": [
              "array([1, 2, 3, 4, 5, 6])"
            ]
          },
          "metadata": {},
          "execution_count": 19
        }
      ]
    },
    {
      "cell_type": "code",
      "source": [
        "vector[:3] #0~3까지"
      ],
      "metadata": {
        "colab": {
          "base_uri": "https://localhost:8080/"
        },
        "id": "rgc7fmNePdc8",
        "outputId": "05fb1510-e678-40ff-c678-332ee02e0646"
      },
      "execution_count": 20,
      "outputs": [
        {
          "output_type": "execute_result",
          "data": {
            "text/plain": [
              "array([1, 2, 3])"
            ]
          },
          "metadata": {},
          "execution_count": 20
        }
      ]
    },
    {
      "cell_type": "code",
      "source": [
        "vector[3:] # 3 이후 ~ 끝"
      ],
      "metadata": {
        "colab": {
          "base_uri": "https://localhost:8080/"
        },
        "id": "lfQDlq3QPdgF",
        "outputId": "46e9b63d-c353-4b4d-953d-d85f86819dd4"
      },
      "execution_count": 21,
      "outputs": [
        {
          "output_type": "execute_result",
          "data": {
            "text/plain": [
              "array([4, 5, 6])"
            ]
          },
          "metadata": {},
          "execution_count": 21
        }
      ]
    },
    {
      "cell_type": "code",
      "source": [
        "vector[-1] # 마지막 원소"
      ],
      "metadata": {
        "colab": {
          "base_uri": "https://localhost:8080/"
        },
        "id": "Y6k9jq5FPdoP",
        "outputId": "fb4c45e0-2767-4424-b4ad-a1a9e204832a"
      },
      "execution_count": 22,
      "outputs": [
        {
          "output_type": "execute_result",
          "data": {
            "text/plain": [
              "6"
            ]
          },
          "metadata": {},
          "execution_count": 22
        }
      ]
    },
    {
      "cell_type": "code",
      "source": [
        "matrix[:,1:2] # 모든 행, 두번째 열"
      ],
      "metadata": {
        "colab": {
          "base_uri": "https://localhost:8080/"
        },
        "id": "s3haNgTRPdvw",
        "outputId": "2e941d2b-8f22-4f51-c241-bb3e241bb80d"
      },
      "execution_count": 23,
      "outputs": [
        {
          "output_type": "execute_result",
          "data": {
            "text/plain": [
              "array([[2],\n",
              "       [5],\n",
              "       [8]])"
            ]
          },
          "metadata": {},
          "execution_count": 23
        }
      ]
    },
    {
      "cell_type": "code",
      "source": [
        "matrix[[0,2]] # 인덱싱"
      ],
      "metadata": {
        "colab": {
          "base_uri": "https://localhost:8080/"
        },
        "id": "sHN89v4dPd0c",
        "outputId": "e3939dc1-8217-4a2a-bba1-e6343cccb05e"
      },
      "execution_count": 24,
      "outputs": [
        {
          "output_type": "execute_result",
          "data": {
            "text/plain": [
              "array([[1, 2, 3],\n",
              "       [7, 8, 9]])"
            ]
          },
          "metadata": {},
          "execution_count": 24
        }
      ]
    },
    {
      "cell_type": "code",
      "source": [
        "matrix[[0,2],[1,0]]"
      ],
      "metadata": {
        "colab": {
          "base_uri": "https://localhost:8080/"
        },
        "id": "kScvgc5_Pd4Y",
        "outputId": "980edfcb-0e19-4922-d8c6-7e3cf4bfdb09"
      },
      "execution_count": 25,
      "outputs": [
        {
          "output_type": "execute_result",
          "data": {
            "text/plain": [
              "array([2, 7])"
            ]
          },
          "metadata": {},
          "execution_count": 25
        }
      ]
    },
    {
      "cell_type": "code",
      "source": [
        "mask = matrix >5\n",
        "\n",
        "mask"
      ],
      "metadata": {
        "colab": {
          "base_uri": "https://localhost:8080/"
        },
        "id": "v_5a7thatwRW",
        "outputId": "f6843efb-7984-4e09-8c23-6e4019f108f7"
      },
      "execution_count": 26,
      "outputs": [
        {
          "output_type": "execute_result",
          "data": {
            "text/plain": [
              "array([[False, False, False],\n",
              "       [False, False,  True],\n",
              "       [ True,  True,  True]])"
            ]
          },
          "metadata": {},
          "execution_count": 26
        }
      ]
    },
    {
      "cell_type": "code",
      "source": [
        "matrix[mask]"
      ],
      "metadata": {
        "colab": {
          "base_uri": "https://localhost:8080/"
        },
        "id": "zympeON73hl3",
        "outputId": "1f0fa83e-bf44-4dd5-a3e5-eb705bb5dfcd"
      },
      "execution_count": 27,
      "outputs": [
        {
          "output_type": "execute_result",
          "data": {
            "text/plain": [
              "array([6, 7, 8, 9])"
            ]
          },
          "metadata": {},
          "execution_count": 27
        }
      ]
    },
    {
      "cell_type": "code",
      "source": [
        "import numpy as np\n",
        "\n",
        "matrix = np.array([[1,2,3,4],\n",
        "                   [5,6,7,8],\n",
        "                   [9,10,11,12]])\n",
        "\n",
        "matrix.shape # 3행 4열"
      ],
      "metadata": {
        "colab": {
          "base_uri": "https://localhost:8080/"
        },
        "id": "z5mF1vJ_3ih4",
        "outputId": "9d8c2c55-ea1f-48f4-fc74-529782b36763"
      },
      "execution_count": 28,
      "outputs": [
        {
          "output_type": "execute_result",
          "data": {
            "text/plain": [
              "(3, 4)"
            ]
          },
          "metadata": {},
          "execution_count": 28
        }
      ]
    },
    {
      "cell_type": "code",
      "source": [
        "matrix.size"
      ],
      "metadata": {
        "colab": {
          "base_uri": "https://localhost:8080/"
        },
        "id": "CeU6X3_D3inF",
        "outputId": "7b3e20f5-cc8b-427e-fd0e-2211e2f6bc5a"
      },
      "execution_count": 29,
      "outputs": [
        {
          "output_type": "execute_result",
          "data": {
            "text/plain": [
              "12"
            ]
          },
          "metadata": {},
          "execution_count": 29
        }
      ]
    },
    {
      "cell_type": "code",
      "source": [
        "matrix.ndim"
      ],
      "metadata": {
        "colab": {
          "base_uri": "https://localhost:8080/"
        },
        "id": "3eW_tbFk3isw",
        "outputId": "4d176ead-aaa8-457e-ada1-ef40ccd49b2d"
      },
      "execution_count": 30,
      "outputs": [
        {
          "output_type": "execute_result",
          "data": {
            "text/plain": [
              "2"
            ]
          },
          "metadata": {},
          "execution_count": 30
        }
      ]
    },
    {
      "cell_type": "code",
      "source": [
        "print(matrix.dtype)"
      ],
      "metadata": {
        "colab": {
          "base_uri": "https://localhost:8080/"
        },
        "id": "0z5orrIr3ixX",
        "outputId": "649fcb97-c5fa-463d-ef74-5e4a30b29cee"
      },
      "execution_count": 31,
      "outputs": [
        {
          "output_type": "stream",
          "name": "stdout",
          "text": [
            "int64\n"
          ]
        }
      ]
    },
    {
      "cell_type": "code",
      "source": [
        "print(matrix.itemsize)"
      ],
      "metadata": {
        "colab": {
          "base_uri": "https://localhost:8080/"
        },
        "id": "1OPd3Kbl3i1M",
        "outputId": "e11904ee-ee5a-47b0-ff6c-3956e05f1fa2"
      },
      "execution_count": 33,
      "outputs": [
        {
          "output_type": "stream",
          "name": "stdout",
          "text": [
            "8\n"
          ]
        }
      ]
    },
    {
      "cell_type": "code",
      "source": [
        "print(matrix.nbytes)"
      ],
      "metadata": {
        "colab": {
          "base_uri": "https://localhost:8080/"
        },
        "id": "cqWTzcFM3i43",
        "outputId": "91e60c32-588e-4ed4-b2d2-b15cf820b14e"
      },
      "execution_count": 34,
      "outputs": [
        {
          "output_type": "stream",
          "name": "stdout",
          "text": [
            "96\n"
          ]
        }
      ]
    },
    {
      "cell_type": "code",
      "source": [
        "# 백터화 연산 적용하기\n",
        "\n",
        "import numpy as np\n",
        "\n",
        "matrix = np.array([[1,2,3],\n",
        "                   [4,5,6],\n",
        "                   [7,8,9]])\n",
        "\n",
        "add_100 = lambda i: i+100 # 100을 더하는 함수\n",
        "\n",
        "vectorized_add_100 = np.vectorize(add_100) # 벡터화 된 함수\n",
        "\n",
        "vectorized_add_100(matrix)"
      ],
      "metadata": {
        "colab": {
          "base_uri": "https://localhost:8080/"
        },
        "id": "ppGZKBkE3i9a",
        "outputId": "2577d387-774a-4d03-db79-b8c5c46fa71d"
      },
      "execution_count": 35,
      "outputs": [
        {
          "output_type": "execute_result",
          "data": {
            "text/plain": [
              "array([[101, 102, 103],\n",
              "       [104, 105, 106],\n",
              "       [107, 108, 109]])"
            ]
          },
          "metadata": {},
          "execution_count": 35
        }
      ]
    },
    {
      "cell_type": "code",
      "source": [
        "matrix + 100 #브로드캐스팅"
      ],
      "metadata": {
        "colab": {
          "base_uri": "https://localhost:8080/"
        },
        "id": "XPuUqwYF3jBC",
        "outputId": "0dc98e8d-56db-434f-bb75-8ed0fdceca6e"
      },
      "execution_count": 36,
      "outputs": [
        {
          "output_type": "execute_result",
          "data": {
            "text/plain": [
              "array([[101, 102, 103],\n",
              "       [104, 105, 106],\n",
              "       [107, 108, 109]])"
            ]
          },
          "metadata": {},
          "execution_count": 36
        }
      ]
    },
    {
      "cell_type": "code",
      "source": [
        "matrix + [100, 100, 100]"
      ],
      "metadata": {
        "colab": {
          "base_uri": "https://localhost:8080/"
        },
        "id": "imL3KDo23jEi",
        "outputId": "b052570f-4abe-49bd-e95e-9f0b5f354535"
      },
      "execution_count": 37,
      "outputs": [
        {
          "output_type": "execute_result",
          "data": {
            "text/plain": [
              "array([[101, 102, 103],\n",
              "       [104, 105, 106],\n",
              "       [107, 108, 109]])"
            ]
          },
          "metadata": {},
          "execution_count": 37
        }
      ]
    },
    {
      "cell_type": "code",
      "source": [
        "matrix + [100,100,100]"
      ],
      "metadata": {
        "colab": {
          "base_uri": "https://localhost:8080/"
        },
        "id": "Ew0eLai03jJp",
        "outputId": "7cf72e77-bd42-451e-c62e-1ac9c8689577"
      },
      "execution_count": 38,
      "outputs": [
        {
          "output_type": "execute_result",
          "data": {
            "text/plain": [
              "array([[101, 102, 103],\n",
              "       [104, 105, 106],\n",
              "       [107, 108, 109]])"
            ]
          },
          "metadata": {},
          "execution_count": 38
        }
      ]
    },
    {
      "cell_type": "code",
      "source": [
        "matrix + [[100],[100],[100]]"
      ],
      "metadata": {
        "colab": {
          "base_uri": "https://localhost:8080/"
        },
        "id": "5bfjcMp13jNK",
        "outputId": "df2255a4-e118-48cf-85fd-876207c4359a"
      },
      "execution_count": 39,
      "outputs": [
        {
          "output_type": "execute_result",
          "data": {
            "text/plain": [
              "array([[101, 102, 103],\n",
              "       [104, 105, 106],\n",
              "       [107, 108, 109]])"
            ]
          },
          "metadata": {},
          "execution_count": 39
        }
      ]
    },
    {
      "cell_type": "code",
      "source": [
        "# 최댓값, 최솟값 찾기\n",
        "\n",
        "import numpy as np\n",
        "\n",
        "matrix = np.array([[1,2,3],\n",
        "                   [4,5,6],\n",
        "                   [7,8,9]])\n",
        "np.max(matrix)\n"
      ],
      "metadata": {
        "colab": {
          "base_uri": "https://localhost:8080/"
        },
        "id": "re268wwz3jRr",
        "outputId": "e4207ba7-7c4d-47c3-d763-8a82e47827c7"
      },
      "execution_count": 40,
      "outputs": [
        {
          "output_type": "execute_result",
          "data": {
            "text/plain": [
              "9"
            ]
          },
          "metadata": {},
          "execution_count": 40
        }
      ]
    },
    {
      "cell_type": "code",
      "source": [
        "np.min(matrix)"
      ],
      "metadata": {
        "colab": {
          "base_uri": "https://localhost:8080/"
        },
        "id": "SBEKo1EY3jVt",
        "outputId": "08e5c9a9-efee-47e8-e89b-b76802776582"
      },
      "execution_count": 41,
      "outputs": [
        {
          "output_type": "execute_result",
          "data": {
            "text/plain": [
              "1"
            ]
          },
          "metadata": {},
          "execution_count": 41
        }
      ]
    },
    {
      "cell_type": "code",
      "source": [
        "np.max(matrix, axis = 0) # 열에서 최댓값"
      ],
      "metadata": {
        "colab": {
          "base_uri": "https://localhost:8080/"
        },
        "id": "4UsTJbQv3jaN",
        "outputId": "c197a6e9-f450-4e0f-a074-cfff71306e9d"
      },
      "execution_count": 43,
      "outputs": [
        {
          "output_type": "execute_result",
          "data": {
            "text/plain": [
              "array([7, 8, 9])"
            ]
          },
          "metadata": {},
          "execution_count": 43
        }
      ]
    },
    {
      "cell_type": "code",
      "source": [
        "np.min(matrix, axis = 1) # 행에서 최솟값"
      ],
      "metadata": {
        "colab": {
          "base_uri": "https://localhost:8080/"
        },
        "id": "5JV_8sX93jiw",
        "outputId": "5f5b33a1-b39d-403c-e8f0-b9af9c9434b6"
      },
      "execution_count": 44,
      "outputs": [
        {
          "output_type": "execute_result",
          "data": {
            "text/plain": [
              "array([1, 4, 7])"
            ]
          },
          "metadata": {},
          "execution_count": 44
        }
      ]
    },
    {
      "cell_type": "code",
      "source": [
        "vector_column = np.max(matrix, axis = 1, keepdims = True) # 원본 차원과 동일한 결과\n",
        "vector_column"
      ],
      "metadata": {
        "colab": {
          "base_uri": "https://localhost:8080/"
        },
        "id": "Bcpsi1Xr3jnA",
        "outputId": "c2d92bf7-4671-48d3-9ef3-8bf09651fdcd"
      },
      "execution_count": 45,
      "outputs": [
        {
          "output_type": "execute_result",
          "data": {
            "text/plain": [
              "array([[3],\n",
              "       [6],\n",
              "       [9]])"
            ]
          },
          "metadata": {},
          "execution_count": 45
        }
      ]
    },
    {
      "cell_type": "code",
      "source": [
        "matrix - vector_column # 브로드 캐스팅"
      ],
      "metadata": {
        "colab": {
          "base_uri": "https://localhost:8080/"
        },
        "id": "kXPUCr5a3jqm",
        "outputId": "388ef5ec-bd92-47ab-90ca-e931bc4b2dc9"
      },
      "execution_count": 46,
      "outputs": [
        {
          "output_type": "execute_result",
          "data": {
            "text/plain": [
              "array([[-2, -1,  0],\n",
              "       [-2, -1,  0],\n",
              "       [-2, -1,  0]])"
            ]
          },
          "metadata": {},
          "execution_count": 46
        }
      ]
    },
    {
      "cell_type": "code",
      "source": [
        "# 평균, 분산, 표준편차 계산\n",
        "# mean, var, std 함수 사용\n",
        "\n",
        "import numpy as np\n",
        "\n",
        "matrix = np.array([[1,2,3,],[4,5,6],[7,8,9]])\n",
        "\n",
        "np.mean(matrix)"
      ],
      "metadata": {
        "colab": {
          "base_uri": "https://localhost:8080/"
        },
        "id": "O7pzU_-F3jvW",
        "outputId": "db470732-2224-42f9-b1d0-c684a0e541aa"
      },
      "execution_count": 47,
      "outputs": [
        {
          "output_type": "execute_result",
          "data": {
            "text/plain": [
              "5.0"
            ]
          },
          "metadata": {},
          "execution_count": 47
        }
      ]
    },
    {
      "cell_type": "code",
      "source": [
        "round(np.var(matrix),2)"
      ],
      "metadata": {
        "colab": {
          "base_uri": "https://localhost:8080/"
        },
        "id": "u6ryMF5FBycI",
        "outputId": "7ef8cadf-26dc-47cc-a22e-e3d4fa3a3596"
      },
      "execution_count": 49,
      "outputs": [
        {
          "output_type": "execute_result",
          "data": {
            "text/plain": [
              "6.67"
            ]
          },
          "metadata": {},
          "execution_count": 49
        }
      ]
    },
    {
      "cell_type": "code",
      "source": [
        "round(np.std(matrix),2)"
      ],
      "metadata": {
        "colab": {
          "base_uri": "https://localhost:8080/"
        },
        "id": "LOePOtEgByeR",
        "outputId": "7349debb-7b2c-4ee4-c7e4-bf8dee7cbf36"
      },
      "execution_count": 50,
      "outputs": [
        {
          "output_type": "execute_result",
          "data": {
            "text/plain": [
              "2.58"
            ]
          },
          "metadata": {},
          "execution_count": 50
        }
      ]
    },
    {
      "cell_type": "code",
      "source": [
        "np.mean(matrix, axis = 0) # 열의 평균\n",
        "# axis = 0 열 (세로)\n",
        "# axis = 1 행 (가로)\n"
      ],
      "metadata": {
        "colab": {
          "base_uri": "https://localhost:8080/"
        },
        "id": "Z5OR4MXuBygz",
        "outputId": "5eb95ead-b731-4517-ad4e-44d46aa3f94b"
      },
      "execution_count": 51,
      "outputs": [
        {
          "output_type": "execute_result",
          "data": {
            "text/plain": [
              "array([4., 5., 6.])"
            ]
          },
          "metadata": {},
          "execution_count": 51
        }
      ]
    },
    {
      "cell_type": "code",
      "source": [
        "np.std(matrix, ddof = 1)"
      ],
      "metadata": {
        "colab": {
          "base_uri": "https://localhost:8080/"
        },
        "id": "n03KqEisByjN",
        "outputId": "f31bcaf3-d2cb-4382-b751-2fe51d1639e6"
      },
      "execution_count": 52,
      "outputs": [
        {
          "output_type": "execute_result",
          "data": {
            "text/plain": [
              "2.7386127875258306"
            ]
          },
          "metadata": {},
          "execution_count": 52
        }
      ]
    },
    {
      "cell_type": "code",
      "source": [
        "import pandas as pd\n",
        "\n",
        "df = pd.DataFrame(matrix.flatten())\n",
        "df.std()"
      ],
      "metadata": {
        "colab": {
          "base_uri": "https://localhost:8080/"
        },
        "id": "jCuXbBrFByqf",
        "outputId": "b9b7ec13-3cfd-4189-e838-e7ef3bb24b0a"
      },
      "execution_count": 53,
      "outputs": [
        {
          "output_type": "execute_result",
          "data": {
            "text/plain": [
              "0    2.738613\n",
              "dtype: float64"
            ]
          },
          "metadata": {},
          "execution_count": 53
        }
      ]
    },
    {
      "cell_type": "code",
      "source": [
        "# 배열 크기 바꾸기\n",
        "import numpy as np\n",
        "\n",
        "matrix = np.array([[1,2,3],\n",
        "                   [4,5,6],\n",
        "                   [7,8,9],\n",
        "                   [10,11,12]])\n",
        "# 4 * 3 행열\n",
        "matrix.reshape(2,6)\n",
        "# 2 * 6 행열"
      ],
      "metadata": {
        "colab": {
          "base_uri": "https://localhost:8080/"
        },
        "id": "gDVL4hwJBysp",
        "outputId": "e99d8d11-1dff-455d-e326-c241b9db6af1"
      },
      "execution_count": 55,
      "outputs": [
        {
          "output_type": "execute_result",
          "data": {
            "text/plain": [
              "array([[ 1,  2,  3,  4,  5,  6],\n",
              "       [ 7,  8,  9, 10, 11, 12]])"
            ]
          },
          "metadata": {},
          "execution_count": 55
        }
      ]
    },
    {
      "cell_type": "code",
      "source": [
        "matrix.size"
      ],
      "metadata": {
        "colab": {
          "base_uri": "https://localhost:8080/"
        },
        "id": "td5JSZGMByvN",
        "outputId": "d1d14135-d3db-4627-adb1-93da3164f596"
      },
      "execution_count": 56,
      "outputs": [
        {
          "output_type": "execute_result",
          "data": {
            "text/plain": [
              "12"
            ]
          },
          "metadata": {},
          "execution_count": 56
        }
      ]
    },
    {
      "cell_type": "code",
      "source": [
        "matrix.reshape(12)"
      ],
      "metadata": {
        "colab": {
          "base_uri": "https://localhost:8080/"
        },
        "id": "ulHeV6aUByxn",
        "outputId": "7652abe2-27ea-446c-f56a-73463f278a84"
      },
      "execution_count": 60,
      "outputs": [
        {
          "output_type": "execute_result",
          "data": {
            "text/plain": [
              "array([ 1,  2,  3,  4,  5,  6,  7,  8,  9, 10, 11, 12])"
            ]
          },
          "metadata": {},
          "execution_count": 60
        }
      ]
    },
    {
      "cell_type": "code",
      "source": [
        "matrix.reshape(1,-1)"
      ],
      "metadata": {
        "colab": {
          "base_uri": "https://localhost:8080/"
        },
        "id": "kCrWYq6yByz6",
        "outputId": "0eab24be-3a8d-4713-eb4a-4f0227e1511d"
      },
      "execution_count": 58,
      "outputs": [
        {
          "output_type": "execute_result",
          "data": {
            "text/plain": [
              "array([[ 1,  2,  3,  4,  5,  6,  7,  8,  9, 10, 11, 12]])"
            ]
          },
          "metadata": {},
          "execution_count": 58
        }
      ]
    },
    {
      "cell_type": "code",
      "source": [
        "matrix.reshape(-1)"
      ],
      "metadata": {
        "colab": {
          "base_uri": "https://localhost:8080/"
        },
        "id": "sYTIqdZfBwMO",
        "outputId": "4b15322c-f1c9-4235-f0ca-7e5b1f0309f6"
      },
      "execution_count": 61,
      "outputs": [
        {
          "output_type": "execute_result",
          "data": {
            "text/plain": [
              "array([ 1,  2,  3,  4,  5,  6,  7,  8,  9, 10, 11, 12])"
            ]
          },
          "metadata": {},
          "execution_count": 61
        }
      ]
    },
    {
      "cell_type": "code",
      "source": [
        "matrix.ravel()"
      ],
      "metadata": {
        "colab": {
          "base_uri": "https://localhost:8080/"
        },
        "id": "CHhhSSMdBwPn",
        "outputId": "f35eb4af-88c9-4b55-e6d6-7c61e70fac8f"
      },
      "execution_count": 62,
      "outputs": [
        {
          "output_type": "execute_result",
          "data": {
            "text/plain": [
              "array([ 1,  2,  3,  4,  5,  6,  7,  8,  9, 10, 11, 12])"
            ]
          },
          "metadata": {},
          "execution_count": 62
        }
      ]
    },
    {
      "cell_type": "code",
      "source": [
        "# 백터나 행렬 전치하기\n",
        "import numpy as np\n",
        "\n",
        "matrix = np.array([[1,2,3],\n",
        "                   [4,5,6],\n",
        "                   [7,8,9]])\n",
        "matrix.T # 전치: 행렬의 행과 열을 서로 맞바꾼 행렬을 '전치행렬(transposed matrix)'"
      ],
      "metadata": {
        "colab": {
          "base_uri": "https://localhost:8080/"
        },
        "id": "E6XiA9WbBwUh",
        "outputId": "2560aced-169b-40d0-d8bb-a73ad1e81343"
      },
      "execution_count": 63,
      "outputs": [
        {
          "output_type": "execute_result",
          "data": {
            "text/plain": [
              "array([[1, 4, 7],\n",
              "       [2, 5, 8],\n",
              "       [3, 6, 9]])"
            ]
          },
          "metadata": {},
          "execution_count": 63
        }
      ]
    },
    {
      "cell_type": "code",
      "source": [
        "np.array([1,2,3,4,5,6]).T\n",
        "# 벡터 전치"
      ],
      "metadata": {
        "colab": {
          "base_uri": "https://localhost:8080/"
        },
        "id": "vkGrDz_SBwYV",
        "outputId": "a24652ad-d2e2-4e1f-d9e2-36c4c3f7770d"
      },
      "execution_count": 64,
      "outputs": [
        {
          "output_type": "execute_result",
          "data": {
            "text/plain": [
              "array([1, 2, 3, 4, 5, 6])"
            ]
          },
          "metadata": {},
          "execution_count": 64
        }
      ]
    },
    {
      "cell_type": "code",
      "source": [
        "np.array([[1,2,3,4,5,6]]).T\n",
        "# 행 벡터 전치 - > 열 벡터 전환"
      ],
      "metadata": {
        "colab": {
          "base_uri": "https://localhost:8080/"
        },
        "id": "97uagrRzBwbm",
        "outputId": "a48019f3-9105-4b76-ac4e-019d53884658"
      },
      "execution_count": 65,
      "outputs": [
        {
          "output_type": "execute_result",
          "data": {
            "text/plain": [
              "array([[1],\n",
              "       [2],\n",
              "       [3],\n",
              "       [4],\n",
              "       [5],\n",
              "       [6]])"
            ]
          },
          "metadata": {},
          "execution_count": 65
        }
      ]
    },
    {
      "cell_type": "code",
      "source": [
        "matrix.transpose()"
      ],
      "metadata": {
        "colab": {
          "base_uri": "https://localhost:8080/"
        },
        "id": "RXuTWrcvBwfb",
        "outputId": "4fd85ccf-4cfc-4687-d6f8-5dd11ff67c61"
      },
      "execution_count": 66,
      "outputs": [
        {
          "output_type": "execute_result",
          "data": {
            "text/plain": [
              "array([[1, 4, 7],\n",
              "       [2, 5, 8],\n",
              "       [3, 6, 9]])"
            ]
          },
          "metadata": {},
          "execution_count": 66
        }
      ]
    },
    {
      "cell_type": "code",
      "source": [
        "matrix = np.array([[[1,2],\n",
        "                    [3,4],\n",
        "                    [5,6]],\n",
        "\n",
        "                   [[7,8],\n",
        "                    [9,10],\n",
        "                    [11,12]]])\n",
        "# 2 * (3 * 2) 행렬\n",
        "matrix.transpose((0,2,1))\n",
        "# 두번째와 세번째 차원 변경 2 * (2 * 3)"
      ],
      "metadata": {
        "colab": {
          "base_uri": "https://localhost:8080/"
        },
        "id": "R6ruqfsoBwzY",
        "outputId": "6e45fb52-59ad-46bb-932a-5e4b88936722"
      },
      "execution_count": 68,
      "outputs": [
        {
          "output_type": "execute_result",
          "data": {
            "text/plain": [
              "array([[[ 1,  3,  5],\n",
              "        [ 2,  4,  6]],\n",
              "\n",
              "       [[ 7,  9, 11],\n",
              "        [ 8, 10, 12]]])"
            ]
          },
          "metadata": {},
          "execution_count": 68
        }
      ]
    },
    {
      "cell_type": "code",
      "source": [
        "# 행렬 펼치기\n",
        "\n",
        "import numpy as np\n",
        "\n",
        "matrix = np.array([[1,2,3],\n",
        "                   [4,5,6],\n",
        "                   [7,8,9]])\n",
        "\n",
        "matrix.flatten() # 행렬 1차원 배열 변환"
      ],
      "metadata": {
        "colab": {
          "base_uri": "https://localhost:8080/"
        },
        "id": "6It7FwkCBw3s",
        "outputId": "ae46a1e5-7e2c-4014-80bb-6e4d5b931559"
      },
      "execution_count": 75,
      "outputs": [
        {
          "output_type": "execute_result",
          "data": {
            "text/plain": [
              "array([1, 2, 3, 4, 5, 6, 7, 8, 9])"
            ]
          },
          "metadata": {},
          "execution_count": 75
        }
      ]
    },
    {
      "cell_type": "code",
      "source": [
        "matrix.reshape(1,-1) # 행 벡터"
      ],
      "metadata": {
        "colab": {
          "base_uri": "https://localhost:8080/"
        },
        "id": "kap3m6zBBw8r",
        "outputId": "015e5b70-f4a7-444f-ea9e-bad542c67773"
      },
      "execution_count": 76,
      "outputs": [
        {
          "output_type": "execute_result",
          "data": {
            "text/plain": [
              "array([[1, 2, 3, 4, 5, 6, 7, 8, 9]])"
            ]
          },
          "metadata": {},
          "execution_count": 76
        }
      ]
    },
    {
      "cell_type": "code",
      "source": [
        "vector_reshaped = matrix.reshape(-1)\n",
        "vector_flattened = matrix.flatten()\n",
        "\n",
        "matrix[0][0] = -1 # (0,0) 위치의 원소를 바꿈 1 -> -1\n",
        "\n",
        "vector_reshaped"
      ],
      "metadata": {
        "colab": {
          "base_uri": "https://localhost:8080/"
        },
        "id": "Z4iHfbc0HyCR",
        "outputId": "a6da8db6-3aca-404c-9cf9-3e27f008df6f"
      },
      "execution_count": 77,
      "outputs": [
        {
          "output_type": "execute_result",
          "data": {
            "text/plain": [
              "array([-1,  2,  3,  4,  5,  6,  7,  8,  9])"
            ]
          },
          "metadata": {},
          "execution_count": 77
        }
      ]
    },
    {
      "cell_type": "code",
      "source": [
        "vector_flattened\n",
        "# 반영 안됨"
      ],
      "metadata": {
        "colab": {
          "base_uri": "https://localhost:8080/"
        },
        "id": "mRIE79HkHyGf",
        "outputId": "4009af46-0289-433c-db52-6eb1e660d8dd"
      },
      "execution_count": 78,
      "outputs": [
        {
          "output_type": "execute_result",
          "data": {
            "text/plain": [
              "array([1, 2, 3, 4, 5, 6, 7, 8, 9])"
            ]
          },
          "metadata": {},
          "execution_count": 78
        }
      ]
    },
    {
      "cell_type": "code",
      "source": [
        "# 행렬의 랭크 구하기 (차원)\n",
        "\n",
        "import numpy as np\n",
        "\n",
        "matrix = np.array([[1,1,1],\n",
        "                   [1,1,10],\n",
        "                   [1,1,15]])\n",
        "# 차원 반환\n",
        "np.linalg.matrix_rank(matrix) # 특잇값 분해"
      ],
      "metadata": {
        "colab": {
          "base_uri": "https://localhost:8080/"
        },
        "id": "TLUMeAFbHyK5",
        "outputId": "7b615ed9-0abb-4bc0-8dce-2ed115df42b0"
      },
      "execution_count": 79,
      "outputs": [
        {
          "output_type": "execute_result",
          "data": {
            "text/plain": [
              "2"
            ]
          },
          "metadata": {},
          "execution_count": 79
        }
      ]
    },
    {
      "cell_type": "code",
      "source": [
        "s = np.linalg.svd(matrix,compute_uv= False)\n",
        "# svd함수로 특잇값만 계산\n",
        "np.sum(s > 1e-10)"
      ],
      "metadata": {
        "colab": {
          "base_uri": "https://localhost:8080/"
        },
        "id": "ndDt4BK5HyPn",
        "outputId": "11ec774e-de02-46e1-8192-17f3cfaebb1f"
      },
      "execution_count": 81,
      "outputs": [
        {
          "output_type": "execute_result",
          "data": {
            "text/plain": [
              "2"
            ]
          },
          "metadata": {},
          "execution_count": 81
        }
      ]
    },
    {
      "cell_type": "code",
      "source": [
        "# 행렬식 계산하기\n",
        "import numpy as np\n",
        "\n",
        "matrix = np.array([[1,2,3],\n",
        "                  [2,4,6],\n",
        "                  [3,8,9]])\n",
        "np.linalg.det(matrix) # 행렬식 det\n",
        "# 행렬식 정방행렬에 의산 선형 변환의 특징을 나타내는 스칼라값"
      ],
      "metadata": {
        "colab": {
          "base_uri": "https://localhost:8080/"
        },
        "id": "sQyuGnn2HyVV",
        "outputId": "efbfda28-2119-41ec-d495-3abff64d2442"
      },
      "execution_count": 83,
      "outputs": [
        {
          "output_type": "execute_result",
          "data": {
            "text/plain": [
              "0.0"
            ]
          },
          "metadata": {},
          "execution_count": 83
        }
      ]
    },
    {
      "cell_type": "code",
      "source": [
        "# 행렬의 대각 원소\n",
        "# diagonal 메서드\n",
        "\n",
        "import numpy as np\n",
        "\n",
        "matrix = np.array([[1,2,3],\n",
        "                   [2,4,6],\n",
        "                   [3,8,9]])\n",
        "\n",
        "matrix.diagonal() # 대각 원소 (주대각선)"
      ],
      "metadata": {
        "colab": {
          "base_uri": "https://localhost:8080/"
        },
        "id": "ghWe0ntzHym6",
        "outputId": "98caced1-1fc0-4c2c-e1ca-5ef746acd36a"
      },
      "execution_count": 84,
      "outputs": [
        {
          "output_type": "execute_result",
          "data": {
            "text/plain": [
              "array([1, 4, 9])"
            ]
          },
          "metadata": {},
          "execution_count": 84
        }
      ]
    },
    {
      "cell_type": "code",
      "source": [
        "matrix.diagonal(offset = 1) # 주대각선 + 1 대각원소"
      ],
      "metadata": {
        "colab": {
          "base_uri": "https://localhost:8080/"
        },
        "id": "eIdD516XHysA",
        "outputId": "b48db432-c155-42e7-f1c3-0b20e3215da2"
      },
      "execution_count": 86,
      "outputs": [
        {
          "output_type": "execute_result",
          "data": {
            "text/plain": [
              "array([2, 6])"
            ]
          },
          "metadata": {},
          "execution_count": 86
        }
      ]
    },
    {
      "cell_type": "code",
      "source": [
        "matrix.diagonal(offset = -1) # 주대각선 - 1 대각원소"
      ],
      "metadata": {
        "colab": {
          "base_uri": "https://localhost:8080/"
        },
        "id": "8iPmGGnrHyxe",
        "outputId": "c7f43eb6-08f1-4859-d327-8433061b617e"
      },
      "execution_count": 87,
      "outputs": [
        {
          "output_type": "execute_result",
          "data": {
            "text/plain": [
              "array([2, 8])"
            ]
          },
          "metadata": {},
          "execution_count": 87
        }
      ]
    },
    {
      "cell_type": "code",
      "source": [
        "a = matrix.diagonal().copy()\n",
        "\n",
        "a = np.diag(matrix)\n",
        "print(a)"
      ],
      "metadata": {
        "colab": {
          "base_uri": "https://localhost:8080/"
        },
        "id": "5g-pn9eRHy1S",
        "outputId": "4294f6c4-03e8-45b9-b665-a57a844d814d"
      },
      "execution_count": 90,
      "outputs": [
        {
          "output_type": "stream",
          "name": "stdout",
          "text": [
            "[1 4 9]\n"
          ]
        }
      ]
    },
    {
      "cell_type": "code",
      "source": [
        "np.diag(a) #대각행렬"
      ],
      "metadata": {
        "colab": {
          "base_uri": "https://localhost:8080/"
        },
        "id": "5EGB8IvDHy4U",
        "outputId": "f709bfa9-be7a-4553-e4f0-800dc1e4bc50"
      },
      "execution_count": 91,
      "outputs": [
        {
          "output_type": "execute_result",
          "data": {
            "text/plain": [
              "array([[1, 0, 0],\n",
              "       [0, 4, 0],\n",
              "       [0, 0, 9]])"
            ]
          },
          "metadata": {},
          "execution_count": 91
        }
      ]
    },
    {
      "cell_type": "code",
      "source": [
        "# 행렬의 대각합 계산\n",
        "# trace\n",
        "\n",
        "import numpy as np\n",
        "\n",
        "matrix = np.array([[1,2,3],\n",
        "                   [2,4,6],\n",
        "                   [3,8,9]])\n",
        "\n",
        "matrix.trace() #대각합 반환 1+4+9"
      ],
      "metadata": {
        "colab": {
          "base_uri": "https://localhost:8080/"
        },
        "id": "I9JIFNBnHy8A",
        "outputId": "931887ca-b481-48d9-9875-fc3fecf346c8"
      },
      "execution_count": 92,
      "outputs": [
        {
          "output_type": "execute_result",
          "data": {
            "text/plain": [
              "14"
            ]
          },
          "metadata": {},
          "execution_count": 92
        }
      ]
    },
    {
      "cell_type": "code",
      "source": [
        "sum(matrix.diagonal()) #대각원소의 합"
      ],
      "metadata": {
        "colab": {
          "base_uri": "https://localhost:8080/"
        },
        "id": "kipiuBAqHy_F",
        "outputId": "4d099677-0742-45de-c12d-5d66401c206f"
      },
      "execution_count": 93,
      "outputs": [
        {
          "output_type": "execute_result",
          "data": {
            "text/plain": [
              "14"
            ]
          },
          "metadata": {},
          "execution_count": 93
        }
      ]
    },
    {
      "cell_type": "code",
      "source": [
        "matrix.trace(offset=1) # 주대각+1 합"
      ],
      "metadata": {
        "colab": {
          "base_uri": "https://localhost:8080/"
        },
        "id": "2Y8FzJ-AHzB4",
        "outputId": "b5c3039e-fc37-4c2e-d1da-ef99b0910c46"
      },
      "execution_count": 94,
      "outputs": [
        {
          "output_type": "execute_result",
          "data": {
            "text/plain": [
              "8"
            ]
          },
          "metadata": {},
          "execution_count": 94
        }
      ]
    },
    {
      "cell_type": "code",
      "source": [
        "matrix.trace(offset = -1)# 주대각 - 1 합"
      ],
      "metadata": {
        "colab": {
          "base_uri": "https://localhost:8080/"
        },
        "id": "jv4sBYNkHzE9",
        "outputId": "7b9f8c2e-7151-4f98-f15c-56e128db3cb6"
      },
      "execution_count": 95,
      "outputs": [
        {
          "output_type": "execute_result",
          "data": {
            "text/plain": [
              "10"
            ]
          },
          "metadata": {},
          "execution_count": 95
        }
      ]
    },
    {
      "cell_type": "code",
      "source": [
        "# 고윳값과 고유벡터 찾기\n",
        "#linalg.eig\n",
        "\n",
        "import numpy as np\n",
        "\n",
        "matrix = np.array([[1,-1,3],\n",
        "                   [1,1,6],\n",
        "                   [3,8,9]])\n",
        "\n",
        "eigenvalues, eignvenctors = np.linalg.eig(matrix)\n",
        "eigenvalues"
      ],
      "metadata": {
        "colab": {
          "base_uri": "https://localhost:8080/"
        },
        "id": "Y2l4OMvNHzHf",
        "outputId": "565c86c1-77ae-437a-a888-44b4635e2ab4"
      },
      "execution_count": 96,
      "outputs": [
        {
          "output_type": "execute_result",
          "data": {
            "text/plain": [
              "array([13.55075847,  0.74003145, -3.29078992])"
            ]
          },
          "metadata": {},
          "execution_count": 96
        }
      ]
    },
    {
      "cell_type": "code",
      "source": [
        "eignvenctors"
      ],
      "metadata": {
        "colab": {
          "base_uri": "https://localhost:8080/"
        },
        "id": "qcWyzA8yHzLX",
        "outputId": "2aab9e96-0d35-4584-9434-c06d916e329f"
      },
      "execution_count": 97,
      "outputs": [
        {
          "output_type": "execute_result",
          "data": {
            "text/plain": [
              "array([[-0.17622017, -0.96677403, -0.53373322],\n",
              "       [-0.435951  ,  0.2053623 , -0.64324848],\n",
              "       [-0.88254925,  0.15223105,  0.54896288]])"
            ]
          },
          "metadata": {},
          "execution_count": 97
        }
      ]
    },
    {
      "cell_type": "code",
      "source": [
        "matrix = np.array([[1,-1,3],\n",
        "                   [-1,1,6],\n",
        "                   [3,6,9]])\n",
        "eignvalues, eignvectors = np.linalg.eigh(matrix) # 더빨리 계산"
      ],
      "metadata": {
        "id": "0De_HCMvtwbz"
      },
      "execution_count": 98,
      "outputs": []
    },
    {
      "cell_type": "code",
      "source": [
        "# 점곱 계산하기\n",
        "# dot\n",
        "\n",
        "import numpy as np\n",
        "\n",
        "vector_a = np.array([1,2,3])\n",
        "vector_b = np.array([4,5,6])\n",
        "\n",
        "np.dot(vector_a,vector_b) # 4 + 10 + 18"
      ],
      "metadata": {
        "colab": {
          "base_uri": "https://localhost:8080/"
        },
        "id": "RCFjgDCpWV3I",
        "outputId": "6d865bfa-06e3-4ecf-bed2-a31341f27214"
      },
      "execution_count": 99,
      "outputs": [
        {
          "output_type": "execute_result",
          "data": {
            "text/plain": [
              "32"
            ]
          },
          "metadata": {},
          "execution_count": 99
        }
      ]
    },
    {
      "cell_type": "code",
      "source": [
        "vector_a @ vector_b # 연산자 @ (스칼라 배열은 안됨)"
      ],
      "metadata": {
        "colab": {
          "base_uri": "https://localhost:8080/"
        },
        "id": "3xIGQX9KWV7n",
        "outputId": "24ee6d40-663c-4c61-91e0-fca4ad93866d"
      },
      "execution_count": 100,
      "outputs": [
        {
          "output_type": "execute_result",
          "data": {
            "text/plain": [
              "32"
            ]
          },
          "metadata": {},
          "execution_count": 100
        }
      ]
    },
    {
      "cell_type": "code",
      "source": [
        "# 행렬 덧셈과 뺄셈\n",
        "# add, subtract\n",
        "\n",
        "import numpy as np\n",
        "\n",
        "matrix_a = np.array([[1,1,1],\n",
        "                     [1,1,1],\n",
        "                     [1,1,2]])\n",
        "\n",
        "matrix_b = np.array([[1,3,1],\n",
        "                    [1,3,1],\n",
        "                    [1,3,8]])\n",
        "\n",
        "np.add(matrix_a,matrix_b)"
      ],
      "metadata": {
        "colab": {
          "base_uri": "https://localhost:8080/"
        },
        "id": "EqUMcj17WV9y",
        "outputId": "80fb9c08-2001-4cf1-e385-c1688ea141e4"
      },
      "execution_count": 105,
      "outputs": [
        {
          "output_type": "execute_result",
          "data": {
            "text/plain": [
              "array([[ 2,  4,  2],\n",
              "       [ 2,  4,  2],\n",
              "       [ 2,  4, 10]])"
            ]
          },
          "metadata": {},
          "execution_count": 105
        }
      ]
    },
    {
      "cell_type": "code",
      "source": [
        "\n",
        "np.subtract(matrix_a, matrix_b)"
      ],
      "metadata": {
        "colab": {
          "base_uri": "https://localhost:8080/"
        },
        "id": "csdqqdmQWWAj",
        "outputId": "105fcd53-f517-425d-ccd1-f1da5dfcf6fe"
      },
      "execution_count": 106,
      "outputs": [
        {
          "output_type": "execute_result",
          "data": {
            "text/plain": [
              "array([[ 0, -2,  0],\n",
              "       [ 0, -2,  0],\n",
              "       [ 0, -2, -6]])"
            ]
          },
          "metadata": {},
          "execution_count": 106
        }
      ]
    },
    {
      "cell_type": "code",
      "source": [
        "# 행렬 곱셈\n",
        "\n",
        "import numpy as np\n",
        "\n",
        "matrix_a = np.array([[1,1],\n",
        "                     [1,2]])\n",
        "matrix_b = np.array([[1,3],\n",
        "                     [1,2]])\n",
        "\n",
        "np.dot(matrix_a,matrix_b)"
      ],
      "metadata": {
        "colab": {
          "base_uri": "https://localhost:8080/"
        },
        "id": "oLc6LVwIWWDB",
        "outputId": "a05a9bbe-049c-42be-eae0-31ca951d008c"
      },
      "execution_count": 108,
      "outputs": [
        {
          "output_type": "execute_result",
          "data": {
            "text/plain": [
              "array([[2, 5],\n",
              "       [3, 7]])"
            ]
          },
          "metadata": {},
          "execution_count": 108
        }
      ]
    },
    {
      "cell_type": "code",
      "source": [
        "matrix_a @ matrix_b"
      ],
      "metadata": {
        "colab": {
          "base_uri": "https://localhost:8080/"
        },
        "id": "njaFrjyQWWFP",
        "outputId": "72a64f06-66f4-40c0-a27a-137b6a5c9417"
      },
      "execution_count": 109,
      "outputs": [
        {
          "output_type": "execute_result",
          "data": {
            "text/plain": [
              "array([[2, 5],\n",
              "       [3, 7]])"
            ]
          },
          "metadata": {},
          "execution_count": 109
        }
      ]
    },
    {
      "cell_type": "code",
      "source": [
        "# 역행렬\n",
        "# inv\n",
        "import numpy as np\n",
        "\n",
        "matrix = np.array([[1,4],\n",
        "                   [2,5]])\n",
        "\n",
        "np.linalg.inv(matrix)"
      ],
      "metadata": {
        "colab": {
          "base_uri": "https://localhost:8080/"
        },
        "id": "DIFPszsCWWHs",
        "outputId": "9a2456c7-e4b6-4760-cfa7-db2dbf4b18e3"
      },
      "execution_count": 110,
      "outputs": [
        {
          "output_type": "execute_result",
          "data": {
            "text/plain": [
              "array([[-1.66666667,  1.33333333],\n",
              "       [ 0.66666667, -0.33333333]])"
            ]
          },
          "metadata": {},
          "execution_count": 110
        }
      ]
    },
    {
      "cell_type": "code",
      "source": [
        "matrix @ np.linalg.inv(matrix)"
      ],
      "metadata": {
        "colab": {
          "base_uri": "https://localhost:8080/"
        },
        "id": "sruCgSFXWWJ4",
        "outputId": "2568c715-4166-4c65-d651-0633fc44e998"
      },
      "execution_count": 111,
      "outputs": [
        {
          "output_type": "execute_result",
          "data": {
            "text/plain": [
              "array([[1.00000000e+00, 0.00000000e+00],\n",
              "       [1.11022302e-16, 1.00000000e+00]])"
            ]
          },
          "metadata": {},
          "execution_count": 111
        }
      ]
    },
    {
      "cell_type": "code",
      "source": [
        "#pinv\n",
        "matrix = np.array([[1,4,7],\n",
        "                   [2,5,8]])\n",
        "\n",
        "np.linalg.pinv(matrix) #유사 역행렬"
      ],
      "metadata": {
        "colab": {
          "base_uri": "https://localhost:8080/"
        },
        "id": "MdIolmJzWWOP",
        "outputId": "904d56d4-1304-48bd-a689-139ff50ef6fb"
      },
      "execution_count": 112,
      "outputs": [
        {
          "output_type": "execute_result",
          "data": {
            "text/plain": [
              "array([[-1.16666667,  1.        ],\n",
              "       [-0.33333333,  0.33333333],\n",
              "       [ 0.5       , -0.33333333]])"
            ]
          },
          "metadata": {},
          "execution_count": 112
        }
      ]
    },
    {
      "cell_type": "code",
      "source": [
        "# 난수 생성\n",
        "import numpy as np\n",
        "\n",
        "np.random.seed(0)\n",
        "np.random.random(3)"
      ],
      "metadata": {
        "colab": {
          "base_uri": "https://localhost:8080/"
        },
        "id": "3_wEJNcRWWQ-",
        "outputId": "62b01b87-e40b-496b-f6f4-fb651397e0d7"
      },
      "execution_count": 113,
      "outputs": [
        {
          "output_type": "execute_result",
          "data": {
            "text/plain": [
              "array([0.5488135 , 0.71518937, 0.60276338])"
            ]
          },
          "metadata": {},
          "execution_count": 113
        }
      ]
    },
    {
      "cell_type": "code",
      "source": [
        "np.random.randint(0,11,3)"
      ],
      "metadata": {
        "colab": {
          "base_uri": "https://localhost:8080/"
        },
        "id": "p1aSowc7WWTh",
        "outputId": "9697e4d0-ceb3-4095-c050-c94901d82741"
      },
      "execution_count": 114,
      "outputs": [
        {
          "output_type": "execute_result",
          "data": {
            "text/plain": [
              "array([3, 7, 9])"
            ]
          },
          "metadata": {},
          "execution_count": 114
        }
      ]
    },
    {
      "cell_type": "code",
      "source": [
        "np.random.normal(0.0,1.0,3) # 평균 0.0 , 표준편차 1.0 정규분포 3개의 수"
      ],
      "metadata": {
        "colab": {
          "base_uri": "https://localhost:8080/"
        },
        "id": "tHtRn7oIWWV_",
        "outputId": "1467487c-d24f-4538-e96f-b66fec95ab04"
      },
      "execution_count": 117,
      "outputs": [
        {
          "output_type": "execute_result",
          "data": {
            "text/plain": [
              "array([-1.42232584,  1.52006949, -0.29139398])"
            ]
          },
          "metadata": {},
          "execution_count": 117
        }
      ]
    },
    {
      "cell_type": "code",
      "source": [
        "np.random.logistic(0.0,1.0,3) # 로지스틱 분포, 평균 0.0, 스케일 1.0"
      ],
      "metadata": {
        "colab": {
          "base_uri": "https://localhost:8080/"
        },
        "id": "Ze_m9N1WWWZB",
        "outputId": "d3364675-425e-4472-e29b-1d033eaf7687"
      },
      "execution_count": 118,
      "outputs": [
        {
          "output_type": "execute_result",
          "data": {
            "text/plain": [
              "array([-0.98118713, -0.08939902,  1.46416405])"
            ]
          },
          "metadata": {},
          "execution_count": 118
        }
      ]
    },
    {
      "cell_type": "code",
      "source": [
        "np.random.uniform(1.0,2.0,3) # 1보다 크고 2보다 작은 수"
      ],
      "metadata": {
        "colab": {
          "base_uri": "https://localhost:8080/"
        },
        "id": "qyn90LQOWWbl",
        "outputId": "a960a583-56b2-4b5d-d069-a54a898878ad"
      },
      "execution_count": 119,
      "outputs": [
        {
          "output_type": "execute_result",
          "data": {
            "text/plain": [
              "array([1.47997717, 1.3927848 , 1.83607876])"
            ]
          },
          "metadata": {},
          "execution_count": 119
        }
      ]
    },
    {
      "cell_type": "code",
      "source": [
        "np.random.random_sample((2,3)) # 2행 3열 0~1 사이"
      ],
      "metadata": {
        "colab": {
          "base_uri": "https://localhost:8080/"
        },
        "id": "r3bVbvC_WWeG",
        "outputId": "4199f18d-f049-4a19-ae78-1b4bacdf0819"
      },
      "execution_count": 120,
      "outputs": [
        {
          "output_type": "execute_result",
          "data": {
            "text/plain": [
              "array([[0.33739616, 0.64817187, 0.36824154],\n",
              "       [0.95715516, 0.14035078, 0.87008726]])"
            ]
          },
          "metadata": {},
          "execution_count": 120
        }
      ]
    },
    {
      "cell_type": "code",
      "source": [
        "np.random.rand(2,3) # np.random.random_sample 동일"
      ],
      "metadata": {
        "colab": {
          "base_uri": "https://localhost:8080/"
        },
        "id": "I8lSTD5FWWgh",
        "outputId": "a602de27-1671-4214-a1f7-778c7619fb5c"
      },
      "execution_count": 121,
      "outputs": [
        {
          "output_type": "execute_result",
          "data": {
            "text/plain": [
              "array([[0.47360805, 0.80091075, 0.52047748],\n",
              "       [0.67887953, 0.72063265, 0.58201979]])"
            ]
          },
          "metadata": {},
          "execution_count": 121
        }
      ]
    },
    {
      "cell_type": "code",
      "source": [
        "np.random.randint(0,1,10) # 최솟값 이상 최댓값 미만 정수 난수 10개"
      ],
      "metadata": {
        "colab": {
          "base_uri": "https://localhost:8080/"
        },
        "id": "SQh1Cy66WWjE",
        "outputId": "19b144ae-374a-4806-fd09-8464de1922a0"
      },
      "execution_count": 122,
      "outputs": [
        {
          "output_type": "execute_result",
          "data": {
            "text/plain": [
              "array([0, 0, 0, 0, 0, 0, 0, 0, 0, 0])"
            ]
          },
          "metadata": {},
          "execution_count": 122
        }
      ]
    },
    {
      "cell_type": "code",
      "source": [
        "np.random.standard_normal((2,3)) # mean 0 std 1 normal random seed\n",
        "# np.random.normal(0.0,1.0,(2,3)) 동일"
      ],
      "metadata": {
        "colab": {
          "base_uri": "https://localhost:8080/"
        },
        "id": "iwHCKrjNtwgw",
        "outputId": "ea1fa7b6-c413-4313-bdca-61f392c014b7"
      },
      "execution_count": 123,
      "outputs": [
        {
          "output_type": "execute_result",
          "data": {
            "text/plain": [
              "array([[-0.13309028,  1.59456053,  0.23043417],\n",
              "       [-0.06491034, -0.96898025,  0.59124281]])"
            ]
          },
          "metadata": {},
          "execution_count": 123
        }
      ]
    },
    {
      "cell_type": "code",
      "source": [
        "np.random.randn(2,3) # 매개변수로 전달\n",
        "# np.random.normal(0.0,1.0,(2,3)) 동일"
      ],
      "metadata": {
        "colab": {
          "base_uri": "https://localhost:8080/"
        },
        "id": "obun96EGtwmV",
        "outputId": "a8fe2fc8-a228-4522-9825-36e349cc503b"
      },
      "execution_count": 124,
      "outputs": [
        {
          "output_type": "execute_result",
          "data": {
            "text/plain": [
              "array([[-0.7827755 , -0.44423283, -0.34518616],\n",
              "       [-0.88180055, -0.44265324, -0.5409163 ]])"
            ]
          },
          "metadata": {},
          "execution_count": 124
        }
      ]
    },
    {
      "cell_type": "code",
      "source": [
        "np.random.choice([0,1,2],5) # 0,1,2 정수중 랜덤 하게 5번 뽑기\n",
        "#np.random.choice(3,5) 동일"
      ],
      "metadata": {
        "colab": {
          "base_uri": "https://localhost:8080/"
        },
        "id": "G9WgkOiitww0",
        "outputId": "a19bfc59-dce7-46ff-9eb7-aec8153602b5"
      },
      "execution_count": 125,
      "outputs": [
        {
          "output_type": "execute_result",
          "data": {
            "text/plain": [
              "array([0, 1, 2, 2, 0])"
            ]
          },
          "metadata": {},
          "execution_count": 125
        }
      ]
    },
    {
      "cell_type": "code",
      "source": [
        "a = np.array([0,1,2,3,4])\n",
        "np.random.shuffle(a) # 섞기\n",
        "a"
      ],
      "metadata": {
        "colab": {
          "base_uri": "https://localhost:8080/"
        },
        "id": "e9tNF5VIjEk3",
        "outputId": "6b6c1133-7bb3-4c18-f63f-a703200c1612"
      },
      "execution_count": 126,
      "outputs": [
        {
          "output_type": "execute_result",
          "data": {
            "text/plain": [
              "array([0, 2, 3, 4, 1])"
            ]
          },
          "metadata": {},
          "execution_count": 126
        }
      ]
    },
    {
      "cell_type": "code",
      "source": [
        "np.random.permutation(a)\n",
        "# 복사본 생성후 섞음"
      ],
      "metadata": {
        "colab": {
          "base_uri": "https://localhost:8080/"
        },
        "id": "5_au7_i0i1hD",
        "outputId": "f149181a-091c-497d-edb6-e1b0e4d7795b"
      },
      "execution_count": 127,
      "outputs": [
        {
          "output_type": "execute_result",
          "data": {
            "text/plain": [
              "array([2, 0, 1, 3, 4])"
            ]
          },
          "metadata": {},
          "execution_count": 127
        }
      ]
    },
    {
      "cell_type": "code",
      "source": [
        "np.random.permutation(5)\n",
        "# 정수 - 1 숫자 섞은 후 반환"
      ],
      "metadata": {
        "colab": {
          "base_uri": "https://localhost:8080/"
        },
        "id": "gJMNaZIqjcV3",
        "outputId": "6741e527-cf1c-45af-a5a6-fb364721b6c6"
      },
      "execution_count": 128,
      "outputs": [
        {
          "output_type": "execute_result",
          "data": {
            "text/plain": [
              "array([4, 1, 2, 0, 3])"
            ]
          },
          "metadata": {},
          "execution_count": 128
        }
      ]
    }
  ]
}